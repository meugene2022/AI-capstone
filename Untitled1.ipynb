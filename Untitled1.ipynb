{
 "cells": [
  {
   "cell_type": "markdown",
   "id": "30df89e1",
   "metadata": {},
   "source": [
    "# Import Data and Libraries "
   ]
  },
  {
   "cell_type": "code",
   "execution_count": 1,
   "id": "a05f9176",
   "metadata": {
    "ExecuteTime": {
     "end_time": "2023-01-23T00:54:40.217017Z",
     "start_time": "2023-01-23T00:54:37.102585Z"
    }
   },
   "outputs": [],
   "source": [
    "import pandas as pd\n",
    "import numpy as np\n",
    "import matplotlib.pyplot as plt\n",
    "import seaborn as sns\n",
    "from math import ceil\n",
    "import plotly.express as px\n",
    "from sklearn.model_selection import train_test_split\n",
    "from sklearn.preprocessing import StandardScaler\n",
    "from sklearn.linear_model import LinearRegression\n",
    "from sklearn.tree import DecisionTreeRegressor\n",
    "from xgboost import XGBRegressor\n",
    "from sklearn.metrics import mean_absolute_error, r2_score\n",
    "from sklearn.model_selection import cross_val_score\n",
    "\n",
    "import statsmodels.api as sm\n",
    "from statsmodels.stats.outliers_influence import variance_inflation_factor\n",
    "\n",
    "from sklearn.metrics import mean_squared_error, mean_absolute_error, r2_score\n",
    "from sklearn.linear_model import LinearRegression\n",
    "from sklearn.model_selection import train_test_split\n",
    "from sklearn.feature_selection import f_regression\n",
    "from sklearn.preprocessing import StandardScaler\n",
    "from sklearn.model_selection import train_test_split\n",
    "from sklearn import metrics\n",
    "%matplotlib inline\n",
    "sns.set(style = 'white')\n"
   ]
  },
  {
   "cell_type": "code",
   "execution_count": 2,
   "id": "5ffe3891",
   "metadata": {
    "ExecuteTime": {
     "end_time": "2023-01-23T00:54:40.247980Z",
     "start_time": "2023-01-23T00:54:40.219001Z"
    }
   },
   "outputs": [],
   "source": [
    "Used_car_data = pd.read_csv(r'C:\\Users\\meugene\\Documents\\Flatiron\\AI_capstone\\carvana.csv')\n",
    "data = Used_car_data"
   ]
  },
  {
   "cell_type": "markdown",
   "id": "a874e4da",
   "metadata": {},
   "source": [
    "# Data Cleaning/Exploration"
   ]
  },
  {
   "cell_type": "code",
   "execution_count": 3,
   "id": "fc9789d4",
   "metadata": {
    "ExecuteTime": {
     "end_time": "2023-01-23T00:54:40.277792Z",
     "start_time": "2023-01-23T00:54:40.250981Z"
    },
    "scrolled": true
   },
   "outputs": [
    {
     "data": {
      "text/html": [
       "<div>\n",
       "<style scoped>\n",
       "    .dataframe tbody tr th:only-of-type {\n",
       "        vertical-align: middle;\n",
       "    }\n",
       "\n",
       "    .dataframe tbody tr th {\n",
       "        vertical-align: top;\n",
       "    }\n",
       "\n",
       "    .dataframe thead th {\n",
       "        text-align: right;\n",
       "    }\n",
       "</style>\n",
       "<table border=\"1\" class=\"dataframe\">\n",
       "  <thead>\n",
       "    <tr style=\"text-align: right;\">\n",
       "      <th></th>\n",
       "      <th>Name</th>\n",
       "      <th>Year</th>\n",
       "      <th>Miles</th>\n",
       "      <th>Price</th>\n",
       "    </tr>\n",
       "  </thead>\n",
       "  <tbody>\n",
       "    <tr>\n",
       "      <th>0</th>\n",
       "      <td>Chevrolet Trax</td>\n",
       "      <td>2018</td>\n",
       "      <td>41946</td>\n",
       "      <td>16990</td>\n",
       "    </tr>\n",
       "    <tr>\n",
       "      <th>1</th>\n",
       "      <td>GMC Terrain</td>\n",
       "      <td>2020</td>\n",
       "      <td>45328</td>\n",
       "      <td>23990</td>\n",
       "    </tr>\n",
       "    <tr>\n",
       "      <th>2</th>\n",
       "      <td>Jeep Wrangler</td>\n",
       "      <td>2012</td>\n",
       "      <td>81068</td>\n",
       "      <td>21590</td>\n",
       "    </tr>\n",
       "    <tr>\n",
       "      <th>3</th>\n",
       "      <td>Jeep Renegade</td>\n",
       "      <td>2019</td>\n",
       "      <td>35372</td>\n",
       "      <td>21590</td>\n",
       "    </tr>\n",
       "    <tr>\n",
       "      <th>4</th>\n",
       "      <td>BMW X</td>\n",
       "      <td>20173</td>\n",
       "      <td>68992</td>\n",
       "      <td>22990</td>\n",
       "    </tr>\n",
       "  </tbody>\n",
       "</table>\n",
       "</div>"
      ],
      "text/plain": [
       "              Name   Year  Miles  Price\n",
       "0   Chevrolet Trax   2018  41946  16990\n",
       "1      GMC Terrain   2020  45328  23990\n",
       "2    Jeep Wrangler   2012  81068  21590\n",
       "3    Jeep Renegade   2019  35372  21590\n",
       "4            BMW X  20173  68992  22990"
      ]
     },
     "execution_count": 3,
     "metadata": {},
     "output_type": "execute_result"
    }
   ],
   "source": [
    "data.head() #Check to see what the data looks like prior to cleaning"
   ]
  },
  {
   "cell_type": "code",
   "execution_count": 4,
   "id": "1eb40cfd",
   "metadata": {
    "ExecuteTime": {
     "end_time": "2023-01-23T00:54:40.293796Z",
     "start_time": "2023-01-23T00:54:40.278793Z"
    }
   },
   "outputs": [
    {
     "name": "stdout",
     "output_type": "stream",
     "text": [
      "<class 'pandas.core.frame.DataFrame'>\n",
      "RangeIndex: 22000 entries, 0 to 21999\n",
      "Data columns (total 4 columns):\n",
      " #   Column  Non-Null Count  Dtype \n",
      "---  ------  --------------  ----- \n",
      " 0   Name    22000 non-null  object\n",
      " 1   Year    22000 non-null  int64 \n",
      " 2   Miles   22000 non-null  int64 \n",
      " 3   Price   22000 non-null  int64 \n",
      "dtypes: int64(3), object(1)\n",
      "memory usage: 687.6+ KB\n"
     ]
    }
   ],
   "source": [
    "data.info()"
   ]
  },
  {
   "cell_type": "code",
   "execution_count": 5,
   "id": "501a0aef",
   "metadata": {
    "ExecuteTime": {
     "end_time": "2023-01-23T00:54:40.309800Z",
     "start_time": "2023-01-23T00:54:40.294797Z"
    }
   },
   "outputs": [
    {
     "data": {
      "text/html": [
       "<div>\n",
       "<style scoped>\n",
       "    .dataframe tbody tr th:only-of-type {\n",
       "        vertical-align: middle;\n",
       "    }\n",
       "\n",
       "    .dataframe tbody tr th {\n",
       "        vertical-align: top;\n",
       "    }\n",
       "\n",
       "    .dataframe thead th {\n",
       "        text-align: right;\n",
       "    }\n",
       "</style>\n",
       "<table border=\"1\" class=\"dataframe\">\n",
       "  <thead>\n",
       "    <tr style=\"text-align: right;\">\n",
       "      <th></th>\n",
       "      <th>Year</th>\n",
       "      <th>Miles</th>\n",
       "      <th>Price</th>\n",
       "    </tr>\n",
       "  </thead>\n",
       "  <tbody>\n",
       "    <tr>\n",
       "      <th>count</th>\n",
       "      <td>2.200000e+04</td>\n",
       "      <td>22000.000000</td>\n",
       "      <td>22000.000000</td>\n",
       "    </tr>\n",
       "    <tr>\n",
       "      <th>mean</th>\n",
       "      <td>1.946648e+05</td>\n",
       "      <td>54445.697318</td>\n",
       "      <td>20707.285136</td>\n",
       "    </tr>\n",
       "    <tr>\n",
       "      <th>std</th>\n",
       "      <td>1.630370e+06</td>\n",
       "      <td>25685.933926</td>\n",
       "      <td>6535.580304</td>\n",
       "    </tr>\n",
       "    <tr>\n",
       "      <th>min</th>\n",
       "      <td>2.009000e+03</td>\n",
       "      <td>53.000000</td>\n",
       "      <td>10990.000000</td>\n",
       "    </tr>\n",
       "    <tr>\n",
       "      <th>25%</th>\n",
       "      <td>2.014000e+03</td>\n",
       "      <td>35512.000000</td>\n",
       "      <td>16590.000000</td>\n",
       "    </tr>\n",
       "    <tr>\n",
       "      <th>50%</th>\n",
       "      <td>2.017000e+03</td>\n",
       "      <td>51890.000000</td>\n",
       "      <td>19590.000000</td>\n",
       "    </tr>\n",
       "    <tr>\n",
       "      <th>75%</th>\n",
       "      <td>2.020000e+03</td>\n",
       "      <td>73191.000000</td>\n",
       "      <td>22990.000000</td>\n",
       "    </tr>\n",
       "    <tr>\n",
       "      <th>max</th>\n",
       "      <td>2.022350e+07</td>\n",
       "      <td>120167.000000</td>\n",
       "      <td>102990.000000</td>\n",
       "    </tr>\n",
       "  </tbody>\n",
       "</table>\n",
       "</div>"
      ],
      "text/plain": [
       "               Year          Miles          Price\n",
       "count  2.200000e+04   22000.000000   22000.000000\n",
       "mean   1.946648e+05   54445.697318   20707.285136\n",
       "std    1.630370e+06   25685.933926    6535.580304\n",
       "min    2.009000e+03      53.000000   10990.000000\n",
       "25%    2.014000e+03   35512.000000   16590.000000\n",
       "50%    2.017000e+03   51890.000000   19590.000000\n",
       "75%    2.020000e+03   73191.000000   22990.000000\n",
       "max    2.022350e+07  120167.000000  102990.000000"
      ]
     },
     "execution_count": 5,
     "metadata": {},
     "output_type": "execute_result"
    }
   ],
   "source": [
    "data.describe()"
   ]
  },
  {
   "cell_type": "code",
   "execution_count": 6,
   "id": "5753eab8",
   "metadata": {
    "ExecuteTime": {
     "end_time": "2023-01-23T00:54:40.325804Z",
     "start_time": "2023-01-23T00:54:40.310799Z"
    }
   },
   "outputs": [
    {
     "data": {
      "text/plain": [
       "(22000, 4)"
      ]
     },
     "execution_count": 6,
     "metadata": {},
     "output_type": "execute_result"
    }
   ],
   "source": [
    "data.shape #checking the shaoe of the data"
   ]
  },
  {
   "cell_type": "code",
   "execution_count": 7,
   "id": "b3edd6e7",
   "metadata": {
    "ExecuteTime": {
     "end_time": "2023-01-23T00:54:40.341754Z",
     "start_time": "2023-01-23T00:54:40.326803Z"
    }
   },
   "outputs": [
    {
     "data": {
      "text/plain": [
       "Name     0\n",
       "Year     0\n",
       "Miles    0\n",
       "Price    0\n",
       "dtype: int64"
      ]
     },
     "execution_count": 7,
     "metadata": {},
     "output_type": "execute_result"
    }
   ],
   "source": [
    "data.isnull().sum() #checkin how many null values there are"
   ]
  },
  {
   "cell_type": "code",
   "execution_count": 62,
   "id": "7b6ee924",
   "metadata": {
    "ExecuteTime": {
     "end_time": "2023-01-23T00:55:54.449910Z",
     "start_time": "2023-01-23T00:55:54.433963Z"
    }
   },
   "outputs": [],
   "source": [
    "data = Used_car_data.dropna() # remove rows with null values\n",
    "\n",
    "data = data[data.Price > 0] #remove rows with negative price\n",
    "\n",
    "data = data[data.Year> 1995] #remove rows with years prior to 1995\n",
    "\n",
    "data = data[data.Year <= 2022] #remove rows with years afer 2022\n",
    "\n",
    "data ['Price']= data['Price'].astype(int) #changing price to an integer\n",
    "\n",
    "data ['Year']= data['Year'].astype(int) #changing Year to an integer\n",
    "\n",
    "data ['Miles']= data['Miles'].astype(int) #changing price to an integer\n"
   ]
  },
  {
   "cell_type": "code",
   "execution_count": 9,
   "id": "a6107752",
   "metadata": {
    "ExecuteTime": {
     "end_time": "2023-01-23T00:54:40.372761Z",
     "start_time": "2023-01-23T00:54:40.358759Z"
    }
   },
   "outputs": [
    {
     "data": {
      "text/plain": [
       "(19147, 4)"
      ]
     },
     "execution_count": 9,
     "metadata": {},
     "output_type": "execute_result"
    }
   ],
   "source": [
    "data.shape #checking shape of data after intial cleaning "
   ]
  },
  {
   "cell_type": "code",
   "execution_count": 10,
   "id": "bf69fc20",
   "metadata": {
    "ExecuteTime": {
     "end_time": "2023-01-23T00:54:40.388765Z",
     "start_time": "2023-01-23T00:54:40.373762Z"
    }
   },
   "outputs": [
    {
     "data": {
      "text/plain": [
       "Name     0\n",
       "Year     0\n",
       "Miles    0\n",
       "Price    0\n",
       "dtype: int64"
      ]
     },
     "execution_count": 10,
     "metadata": {},
     "output_type": "execute_result"
    }
   ],
   "source": [
    "data.isnull().sum() #ensuring there are no null values after cleaning"
   ]
  },
  {
   "cell_type": "code",
   "execution_count": 63,
   "id": "d0f67f28",
   "metadata": {
    "ExecuteTime": {
     "end_time": "2023-01-23T00:56:02.431822Z",
     "start_time": "2023-01-23T00:56:02.412324Z"
    },
    "scrolled": true
   },
   "outputs": [
    {
     "data": {
      "text/plain": [
       "Year     0.499996\n",
       "Miles   -0.485579\n",
       "Price    1.000000\n",
       "Name: Price, dtype: float64"
      ]
     },
     "execution_count": 63,
     "metadata": {},
     "output_type": "execute_result"
    }
   ],
   "source": [
    "data.corr()[\"Price\"] # the coorelation between price and some of the other values after cleaning"
   ]
  },
  {
   "cell_type": "code",
   "execution_count": 64,
   "id": "923960c9",
   "metadata": {
    "ExecuteTime": {
     "end_time": "2023-01-23T00:56:05.267245Z",
     "start_time": "2023-01-23T00:56:05.256243Z"
    }
   },
   "outputs": [
    {
     "data": {
      "text/html": [
       "<div>\n",
       "<style scoped>\n",
       "    .dataframe tbody tr th:only-of-type {\n",
       "        vertical-align: middle;\n",
       "    }\n",
       "\n",
       "    .dataframe tbody tr th {\n",
       "        vertical-align: top;\n",
       "    }\n",
       "\n",
       "    .dataframe thead th {\n",
       "        text-align: right;\n",
       "    }\n",
       "</style>\n",
       "<table border=\"1\" class=\"dataframe\">\n",
       "  <thead>\n",
       "    <tr style=\"text-align: right;\">\n",
       "      <th></th>\n",
       "      <th>Name</th>\n",
       "      <th>Year</th>\n",
       "      <th>Miles</th>\n",
       "      <th>Price</th>\n",
       "    </tr>\n",
       "  </thead>\n",
       "  <tbody>\n",
       "    <tr>\n",
       "      <th>0</th>\n",
       "      <td>Chevrolet Trax</td>\n",
       "      <td>2018</td>\n",
       "      <td>41946</td>\n",
       "      <td>16990</td>\n",
       "    </tr>\n",
       "    <tr>\n",
       "      <th>1</th>\n",
       "      <td>GMC Terrain</td>\n",
       "      <td>2020</td>\n",
       "      <td>45328</td>\n",
       "      <td>23990</td>\n",
       "    </tr>\n",
       "    <tr>\n",
       "      <th>2</th>\n",
       "      <td>Jeep Wrangler</td>\n",
       "      <td>2012</td>\n",
       "      <td>81068</td>\n",
       "      <td>21590</td>\n",
       "    </tr>\n",
       "    <tr>\n",
       "      <th>3</th>\n",
       "      <td>Jeep Renegade</td>\n",
       "      <td>2019</td>\n",
       "      <td>35372</td>\n",
       "      <td>21590</td>\n",
       "    </tr>\n",
       "    <tr>\n",
       "      <th>5</th>\n",
       "      <td>Buick Encore</td>\n",
       "      <td>2019</td>\n",
       "      <td>47973</td>\n",
       "      <td>18590</td>\n",
       "    </tr>\n",
       "  </tbody>\n",
       "</table>\n",
       "</div>"
      ],
      "text/plain": [
       "              Name  Year  Miles  Price\n",
       "0   Chevrolet Trax  2018  41946  16990\n",
       "1      GMC Terrain  2020  45328  23990\n",
       "2    Jeep Wrangler  2012  81068  21590\n",
       "3    Jeep Renegade  2019  35372  21590\n",
       "5     Buick Encore  2019  47973  18590"
      ]
     },
     "execution_count": 64,
     "metadata": {},
     "output_type": "execute_result"
    }
   ],
   "source": [
    "data.head() #seeing what the data looks like after cleanig "
   ]
  },
  {
   "cell_type": "markdown",
   "id": "7f55c593",
   "metadata": {},
   "source": [
    "# Data Visualization"
   ]
  },
  {
   "cell_type": "code",
   "execution_count": 65,
   "id": "16a9d9ea",
   "metadata": {
    "ExecuteTime": {
     "end_time": "2023-01-23T00:56:08.015968Z",
     "start_time": "2023-01-23T00:56:07.957610Z"
    }
   },
   "outputs": [
    {
     "data": {
      "application/vnd.plotly.v1+json": {
       "config": {
        "plotlyServerURL": "https://plot.ly"
       },
       "data": [
        {
         "alignmentgroup": "True",
         "hovertemplate": "Year=%{x}<br>Number of Cars=%{y}<extra></extra>",
         "legendgroup": "",
         "marker": {
          "color": "#636efa",
          "pattern": {
           "shape": ""
          }
         },
         "name": "",
         "offsetgroup": "",
         "orientation": "v",
         "showlegend": false,
         "textposition": "auto",
         "type": "bar",
         "x": [
          2015,
          2019,
          2017,
          2016,
          2014,
          2018,
          2020,
          2021,
          2012,
          2013,
          2010,
          2011,
          2022,
          2009
         ],
         "xaxis": "x",
         "y": [
          2542,
          2281,
          2152,
          2107,
          2053,
          1684,
          1232,
          1160,
          1149,
          1126,
          599,
          556,
          356,
          150
         ],
         "yaxis": "y"
        }
       ],
       "layout": {
        "barmode": "relative",
        "legend": {
         "tracegroupgap": 0
        },
        "margin": {
         "t": 60
        },
        "template": {
         "data": {
          "bar": [
           {
            "error_x": {
             "color": "#2a3f5f"
            },
            "error_y": {
             "color": "#2a3f5f"
            },
            "marker": {
             "line": {
              "color": "#E5ECF6",
              "width": 0.5
             },
             "pattern": {
              "fillmode": "overlay",
              "size": 10,
              "solidity": 0.2
             }
            },
            "type": "bar"
           }
          ],
          "barpolar": [
           {
            "marker": {
             "line": {
              "color": "#E5ECF6",
              "width": 0.5
             },
             "pattern": {
              "fillmode": "overlay",
              "size": 10,
              "solidity": 0.2
             }
            },
            "type": "barpolar"
           }
          ],
          "carpet": [
           {
            "aaxis": {
             "endlinecolor": "#2a3f5f",
             "gridcolor": "white",
             "linecolor": "white",
             "minorgridcolor": "white",
             "startlinecolor": "#2a3f5f"
            },
            "baxis": {
             "endlinecolor": "#2a3f5f",
             "gridcolor": "white",
             "linecolor": "white",
             "minorgridcolor": "white",
             "startlinecolor": "#2a3f5f"
            },
            "type": "carpet"
           }
          ],
          "choropleth": [
           {
            "colorbar": {
             "outlinewidth": 0,
             "ticks": ""
            },
            "type": "choropleth"
           }
          ],
          "contour": [
           {
            "colorbar": {
             "outlinewidth": 0,
             "ticks": ""
            },
            "colorscale": [
             [
              0,
              "#0d0887"
             ],
             [
              0.1111111111111111,
              "#46039f"
             ],
             [
              0.2222222222222222,
              "#7201a8"
             ],
             [
              0.3333333333333333,
              "#9c179e"
             ],
             [
              0.4444444444444444,
              "#bd3786"
             ],
             [
              0.5555555555555556,
              "#d8576b"
             ],
             [
              0.6666666666666666,
              "#ed7953"
             ],
             [
              0.7777777777777778,
              "#fb9f3a"
             ],
             [
              0.8888888888888888,
              "#fdca26"
             ],
             [
              1,
              "#f0f921"
             ]
            ],
            "type": "contour"
           }
          ],
          "contourcarpet": [
           {
            "colorbar": {
             "outlinewidth": 0,
             "ticks": ""
            },
            "type": "contourcarpet"
           }
          ],
          "heatmap": [
           {
            "colorbar": {
             "outlinewidth": 0,
             "ticks": ""
            },
            "colorscale": [
             [
              0,
              "#0d0887"
             ],
             [
              0.1111111111111111,
              "#46039f"
             ],
             [
              0.2222222222222222,
              "#7201a8"
             ],
             [
              0.3333333333333333,
              "#9c179e"
             ],
             [
              0.4444444444444444,
              "#bd3786"
             ],
             [
              0.5555555555555556,
              "#d8576b"
             ],
             [
              0.6666666666666666,
              "#ed7953"
             ],
             [
              0.7777777777777778,
              "#fb9f3a"
             ],
             [
              0.8888888888888888,
              "#fdca26"
             ],
             [
              1,
              "#f0f921"
             ]
            ],
            "type": "heatmap"
           }
          ],
          "heatmapgl": [
           {
            "colorbar": {
             "outlinewidth": 0,
             "ticks": ""
            },
            "colorscale": [
             [
              0,
              "#0d0887"
             ],
             [
              0.1111111111111111,
              "#46039f"
             ],
             [
              0.2222222222222222,
              "#7201a8"
             ],
             [
              0.3333333333333333,
              "#9c179e"
             ],
             [
              0.4444444444444444,
              "#bd3786"
             ],
             [
              0.5555555555555556,
              "#d8576b"
             ],
             [
              0.6666666666666666,
              "#ed7953"
             ],
             [
              0.7777777777777778,
              "#fb9f3a"
             ],
             [
              0.8888888888888888,
              "#fdca26"
             ],
             [
              1,
              "#f0f921"
             ]
            ],
            "type": "heatmapgl"
           }
          ],
          "histogram": [
           {
            "marker": {
             "pattern": {
              "fillmode": "overlay",
              "size": 10,
              "solidity": 0.2
             }
            },
            "type": "histogram"
           }
          ],
          "histogram2d": [
           {
            "colorbar": {
             "outlinewidth": 0,
             "ticks": ""
            },
            "colorscale": [
             [
              0,
              "#0d0887"
             ],
             [
              0.1111111111111111,
              "#46039f"
             ],
             [
              0.2222222222222222,
              "#7201a8"
             ],
             [
              0.3333333333333333,
              "#9c179e"
             ],
             [
              0.4444444444444444,
              "#bd3786"
             ],
             [
              0.5555555555555556,
              "#d8576b"
             ],
             [
              0.6666666666666666,
              "#ed7953"
             ],
             [
              0.7777777777777778,
              "#fb9f3a"
             ],
             [
              0.8888888888888888,
              "#fdca26"
             ],
             [
              1,
              "#f0f921"
             ]
            ],
            "type": "histogram2d"
           }
          ],
          "histogram2dcontour": [
           {
            "colorbar": {
             "outlinewidth": 0,
             "ticks": ""
            },
            "colorscale": [
             [
              0,
              "#0d0887"
             ],
             [
              0.1111111111111111,
              "#46039f"
             ],
             [
              0.2222222222222222,
              "#7201a8"
             ],
             [
              0.3333333333333333,
              "#9c179e"
             ],
             [
              0.4444444444444444,
              "#bd3786"
             ],
             [
              0.5555555555555556,
              "#d8576b"
             ],
             [
              0.6666666666666666,
              "#ed7953"
             ],
             [
              0.7777777777777778,
              "#fb9f3a"
             ],
             [
              0.8888888888888888,
              "#fdca26"
             ],
             [
              1,
              "#f0f921"
             ]
            ],
            "type": "histogram2dcontour"
           }
          ],
          "mesh3d": [
           {
            "colorbar": {
             "outlinewidth": 0,
             "ticks": ""
            },
            "type": "mesh3d"
           }
          ],
          "parcoords": [
           {
            "line": {
             "colorbar": {
              "outlinewidth": 0,
              "ticks": ""
             }
            },
            "type": "parcoords"
           }
          ],
          "pie": [
           {
            "automargin": true,
            "type": "pie"
           }
          ],
          "scatter": [
           {
            "marker": {
             "colorbar": {
              "outlinewidth": 0,
              "ticks": ""
             }
            },
            "type": "scatter"
           }
          ],
          "scatter3d": [
           {
            "line": {
             "colorbar": {
              "outlinewidth": 0,
              "ticks": ""
             }
            },
            "marker": {
             "colorbar": {
              "outlinewidth": 0,
              "ticks": ""
             }
            },
            "type": "scatter3d"
           }
          ],
          "scattercarpet": [
           {
            "marker": {
             "colorbar": {
              "outlinewidth": 0,
              "ticks": ""
             }
            },
            "type": "scattercarpet"
           }
          ],
          "scattergeo": [
           {
            "marker": {
             "colorbar": {
              "outlinewidth": 0,
              "ticks": ""
             }
            },
            "type": "scattergeo"
           }
          ],
          "scattergl": [
           {
            "marker": {
             "colorbar": {
              "outlinewidth": 0,
              "ticks": ""
             }
            },
            "type": "scattergl"
           }
          ],
          "scattermapbox": [
           {
            "marker": {
             "colorbar": {
              "outlinewidth": 0,
              "ticks": ""
             }
            },
            "type": "scattermapbox"
           }
          ],
          "scatterpolar": [
           {
            "marker": {
             "colorbar": {
              "outlinewidth": 0,
              "ticks": ""
             }
            },
            "type": "scatterpolar"
           }
          ],
          "scatterpolargl": [
           {
            "marker": {
             "colorbar": {
              "outlinewidth": 0,
              "ticks": ""
             }
            },
            "type": "scatterpolargl"
           }
          ],
          "scatterternary": [
           {
            "marker": {
             "colorbar": {
              "outlinewidth": 0,
              "ticks": ""
             }
            },
            "type": "scatterternary"
           }
          ],
          "surface": [
           {
            "colorbar": {
             "outlinewidth": 0,
             "ticks": ""
            },
            "colorscale": [
             [
              0,
              "#0d0887"
             ],
             [
              0.1111111111111111,
              "#46039f"
             ],
             [
              0.2222222222222222,
              "#7201a8"
             ],
             [
              0.3333333333333333,
              "#9c179e"
             ],
             [
              0.4444444444444444,
              "#bd3786"
             ],
             [
              0.5555555555555556,
              "#d8576b"
             ],
             [
              0.6666666666666666,
              "#ed7953"
             ],
             [
              0.7777777777777778,
              "#fb9f3a"
             ],
             [
              0.8888888888888888,
              "#fdca26"
             ],
             [
              1,
              "#f0f921"
             ]
            ],
            "type": "surface"
           }
          ],
          "table": [
           {
            "cells": {
             "fill": {
              "color": "#EBF0F8"
             },
             "line": {
              "color": "white"
             }
            },
            "header": {
             "fill": {
              "color": "#C8D4E3"
             },
             "line": {
              "color": "white"
             }
            },
            "type": "table"
           }
          ]
         },
         "layout": {
          "annotationdefaults": {
           "arrowcolor": "#2a3f5f",
           "arrowhead": 0,
           "arrowwidth": 1
          },
          "autotypenumbers": "strict",
          "coloraxis": {
           "colorbar": {
            "outlinewidth": 0,
            "ticks": ""
           }
          },
          "colorscale": {
           "diverging": [
            [
             0,
             "#8e0152"
            ],
            [
             0.1,
             "#c51b7d"
            ],
            [
             0.2,
             "#de77ae"
            ],
            [
             0.3,
             "#f1b6da"
            ],
            [
             0.4,
             "#fde0ef"
            ],
            [
             0.5,
             "#f7f7f7"
            ],
            [
             0.6,
             "#e6f5d0"
            ],
            [
             0.7,
             "#b8e186"
            ],
            [
             0.8,
             "#7fbc41"
            ],
            [
             0.9,
             "#4d9221"
            ],
            [
             1,
             "#276419"
            ]
           ],
           "sequential": [
            [
             0,
             "#0d0887"
            ],
            [
             0.1111111111111111,
             "#46039f"
            ],
            [
             0.2222222222222222,
             "#7201a8"
            ],
            [
             0.3333333333333333,
             "#9c179e"
            ],
            [
             0.4444444444444444,
             "#bd3786"
            ],
            [
             0.5555555555555556,
             "#d8576b"
            ],
            [
             0.6666666666666666,
             "#ed7953"
            ],
            [
             0.7777777777777778,
             "#fb9f3a"
            ],
            [
             0.8888888888888888,
             "#fdca26"
            ],
            [
             1,
             "#f0f921"
            ]
           ],
           "sequentialminus": [
            [
             0,
             "#0d0887"
            ],
            [
             0.1111111111111111,
             "#46039f"
            ],
            [
             0.2222222222222222,
             "#7201a8"
            ],
            [
             0.3333333333333333,
             "#9c179e"
            ],
            [
             0.4444444444444444,
             "#bd3786"
            ],
            [
             0.5555555555555556,
             "#d8576b"
            ],
            [
             0.6666666666666666,
             "#ed7953"
            ],
            [
             0.7777777777777778,
             "#fb9f3a"
            ],
            [
             0.8888888888888888,
             "#fdca26"
            ],
            [
             1,
             "#f0f921"
            ]
           ]
          },
          "colorway": [
           "#636efa",
           "#EF553B",
           "#00cc96",
           "#ab63fa",
           "#FFA15A",
           "#19d3f3",
           "#FF6692",
           "#B6E880",
           "#FF97FF",
           "#FECB52"
          ],
          "font": {
           "color": "#2a3f5f"
          },
          "geo": {
           "bgcolor": "white",
           "lakecolor": "white",
           "landcolor": "#E5ECF6",
           "showlakes": true,
           "showland": true,
           "subunitcolor": "white"
          },
          "hoverlabel": {
           "align": "left"
          },
          "hovermode": "closest",
          "mapbox": {
           "style": "light"
          },
          "paper_bgcolor": "white",
          "plot_bgcolor": "#E5ECF6",
          "polar": {
           "angularaxis": {
            "gridcolor": "white",
            "linecolor": "white",
            "ticks": ""
           },
           "bgcolor": "#E5ECF6",
           "radialaxis": {
            "gridcolor": "white",
            "linecolor": "white",
            "ticks": ""
           }
          },
          "scene": {
           "xaxis": {
            "backgroundcolor": "#E5ECF6",
            "gridcolor": "white",
            "gridwidth": 2,
            "linecolor": "white",
            "showbackground": true,
            "ticks": "",
            "zerolinecolor": "white"
           },
           "yaxis": {
            "backgroundcolor": "#E5ECF6",
            "gridcolor": "white",
            "gridwidth": 2,
            "linecolor": "white",
            "showbackground": true,
            "ticks": "",
            "zerolinecolor": "white"
           },
           "zaxis": {
            "backgroundcolor": "#E5ECF6",
            "gridcolor": "white",
            "gridwidth": 2,
            "linecolor": "white",
            "showbackground": true,
            "ticks": "",
            "zerolinecolor": "white"
           }
          },
          "shapedefaults": {
           "line": {
            "color": "#2a3f5f"
           }
          },
          "ternary": {
           "aaxis": {
            "gridcolor": "white",
            "linecolor": "white",
            "ticks": ""
           },
           "baxis": {
            "gridcolor": "white",
            "linecolor": "white",
            "ticks": ""
           },
           "bgcolor": "#E5ECF6",
           "caxis": {
            "gridcolor": "white",
            "linecolor": "white",
            "ticks": ""
           }
          },
          "title": {
           "x": 0.05
          },
          "xaxis": {
           "automargin": true,
           "gridcolor": "white",
           "linecolor": "white",
           "ticks": "",
           "title": {
            "standoff": 15
           },
           "zerolinecolor": "white",
           "zerolinewidth": 2
          },
          "yaxis": {
           "automargin": true,
           "gridcolor": "white",
           "linecolor": "white",
           "ticks": "",
           "title": {
            "standoff": 15
           },
           "zerolinecolor": "white",
           "zerolinewidth": 2
          }
         }
        },
        "xaxis": {
         "anchor": "y",
         "domain": [
          0,
          1
         ],
         "title": {
          "text": "Year"
         }
        },
        "yaxis": {
         "anchor": "x",
         "domain": [
          0,
          1
         ],
         "title": {
          "text": "Number of Cars"
         }
        }
       }
      },
      "text/html": [
       "<div>                            <div id=\"809f2384-d545-411b-a7ce-2e5777dbcd06\" class=\"plotly-graph-div\" style=\"height:525px; width:100%;\"></div>            <script type=\"text/javascript\">                require([\"plotly\"], function(Plotly) {                    window.PLOTLYENV=window.PLOTLYENV || {};                                    if (document.getElementById(\"809f2384-d545-411b-a7ce-2e5777dbcd06\")) {                    Plotly.newPlot(                        \"809f2384-d545-411b-a7ce-2e5777dbcd06\",                        [{\"alignmentgroup\":\"True\",\"hovertemplate\":\"Year=%{x}<br>Number of Cars=%{y}<extra></extra>\",\"legendgroup\":\"\",\"marker\":{\"color\":\"#636efa\",\"pattern\":{\"shape\":\"\"}},\"name\":\"\",\"offsetgroup\":\"\",\"orientation\":\"v\",\"showlegend\":false,\"textposition\":\"auto\",\"x\":[2015,2019,2017,2016,2014,2018,2020,2021,2012,2013,2010,2011,2022,2009],\"xaxis\":\"x\",\"y\":[2542,2281,2152,2107,2053,1684,1232,1160,1149,1126,599,556,356,150],\"yaxis\":\"y\",\"type\":\"bar\"}],                        {\"template\":{\"data\":{\"bar\":[{\"error_x\":{\"color\":\"#2a3f5f\"},\"error_y\":{\"color\":\"#2a3f5f\"},\"marker\":{\"line\":{\"color\":\"#E5ECF6\",\"width\":0.5},\"pattern\":{\"fillmode\":\"overlay\",\"size\":10,\"solidity\":0.2}},\"type\":\"bar\"}],\"barpolar\":[{\"marker\":{\"line\":{\"color\":\"#E5ECF6\",\"width\":0.5},\"pattern\":{\"fillmode\":\"overlay\",\"size\":10,\"solidity\":0.2}},\"type\":\"barpolar\"}],\"carpet\":[{\"aaxis\":{\"endlinecolor\":\"#2a3f5f\",\"gridcolor\":\"white\",\"linecolor\":\"white\",\"minorgridcolor\":\"white\",\"startlinecolor\":\"#2a3f5f\"},\"baxis\":{\"endlinecolor\":\"#2a3f5f\",\"gridcolor\":\"white\",\"linecolor\":\"white\",\"minorgridcolor\":\"white\",\"startlinecolor\":\"#2a3f5f\"},\"type\":\"carpet\"}],\"choropleth\":[{\"colorbar\":{\"outlinewidth\":0,\"ticks\":\"\"},\"type\":\"choropleth\"}],\"contour\":[{\"colorbar\":{\"outlinewidth\":0,\"ticks\":\"\"},\"colorscale\":[[0.0,\"#0d0887\"],[0.1111111111111111,\"#46039f\"],[0.2222222222222222,\"#7201a8\"],[0.3333333333333333,\"#9c179e\"],[0.4444444444444444,\"#bd3786\"],[0.5555555555555556,\"#d8576b\"],[0.6666666666666666,\"#ed7953\"],[0.7777777777777778,\"#fb9f3a\"],[0.8888888888888888,\"#fdca26\"],[1.0,\"#f0f921\"]],\"type\":\"contour\"}],\"contourcarpet\":[{\"colorbar\":{\"outlinewidth\":0,\"ticks\":\"\"},\"type\":\"contourcarpet\"}],\"heatmap\":[{\"colorbar\":{\"outlinewidth\":0,\"ticks\":\"\"},\"colorscale\":[[0.0,\"#0d0887\"],[0.1111111111111111,\"#46039f\"],[0.2222222222222222,\"#7201a8\"],[0.3333333333333333,\"#9c179e\"],[0.4444444444444444,\"#bd3786\"],[0.5555555555555556,\"#d8576b\"],[0.6666666666666666,\"#ed7953\"],[0.7777777777777778,\"#fb9f3a\"],[0.8888888888888888,\"#fdca26\"],[1.0,\"#f0f921\"]],\"type\":\"heatmap\"}],\"heatmapgl\":[{\"colorbar\":{\"outlinewidth\":0,\"ticks\":\"\"},\"colorscale\":[[0.0,\"#0d0887\"],[0.1111111111111111,\"#46039f\"],[0.2222222222222222,\"#7201a8\"],[0.3333333333333333,\"#9c179e\"],[0.4444444444444444,\"#bd3786\"],[0.5555555555555556,\"#d8576b\"],[0.6666666666666666,\"#ed7953\"],[0.7777777777777778,\"#fb9f3a\"],[0.8888888888888888,\"#fdca26\"],[1.0,\"#f0f921\"]],\"type\":\"heatmapgl\"}],\"histogram\":[{\"marker\":{\"pattern\":{\"fillmode\":\"overlay\",\"size\":10,\"solidity\":0.2}},\"type\":\"histogram\"}],\"histogram2d\":[{\"colorbar\":{\"outlinewidth\":0,\"ticks\":\"\"},\"colorscale\":[[0.0,\"#0d0887\"],[0.1111111111111111,\"#46039f\"],[0.2222222222222222,\"#7201a8\"],[0.3333333333333333,\"#9c179e\"],[0.4444444444444444,\"#bd3786\"],[0.5555555555555556,\"#d8576b\"],[0.6666666666666666,\"#ed7953\"],[0.7777777777777778,\"#fb9f3a\"],[0.8888888888888888,\"#fdca26\"],[1.0,\"#f0f921\"]],\"type\":\"histogram2d\"}],\"histogram2dcontour\":[{\"colorbar\":{\"outlinewidth\":0,\"ticks\":\"\"},\"colorscale\":[[0.0,\"#0d0887\"],[0.1111111111111111,\"#46039f\"],[0.2222222222222222,\"#7201a8\"],[0.3333333333333333,\"#9c179e\"],[0.4444444444444444,\"#bd3786\"],[0.5555555555555556,\"#d8576b\"],[0.6666666666666666,\"#ed7953\"],[0.7777777777777778,\"#fb9f3a\"],[0.8888888888888888,\"#fdca26\"],[1.0,\"#f0f921\"]],\"type\":\"histogram2dcontour\"}],\"mesh3d\":[{\"colorbar\":{\"outlinewidth\":0,\"ticks\":\"\"},\"type\":\"mesh3d\"}],\"parcoords\":[{\"line\":{\"colorbar\":{\"outlinewidth\":0,\"ticks\":\"\"}},\"type\":\"parcoords\"}],\"pie\":[{\"automargin\":true,\"type\":\"pie\"}],\"scatter\":[{\"marker\":{\"colorbar\":{\"outlinewidth\":0,\"ticks\":\"\"}},\"type\":\"scatter\"}],\"scatter3d\":[{\"line\":{\"colorbar\":{\"outlinewidth\":0,\"ticks\":\"\"}},\"marker\":{\"colorbar\":{\"outlinewidth\":0,\"ticks\":\"\"}},\"type\":\"scatter3d\"}],\"scattercarpet\":[{\"marker\":{\"colorbar\":{\"outlinewidth\":0,\"ticks\":\"\"}},\"type\":\"scattercarpet\"}],\"scattergeo\":[{\"marker\":{\"colorbar\":{\"outlinewidth\":0,\"ticks\":\"\"}},\"type\":\"scattergeo\"}],\"scattergl\":[{\"marker\":{\"colorbar\":{\"outlinewidth\":0,\"ticks\":\"\"}},\"type\":\"scattergl\"}],\"scattermapbox\":[{\"marker\":{\"colorbar\":{\"outlinewidth\":0,\"ticks\":\"\"}},\"type\":\"scattermapbox\"}],\"scatterpolar\":[{\"marker\":{\"colorbar\":{\"outlinewidth\":0,\"ticks\":\"\"}},\"type\":\"scatterpolar\"}],\"scatterpolargl\":[{\"marker\":{\"colorbar\":{\"outlinewidth\":0,\"ticks\":\"\"}},\"type\":\"scatterpolargl\"}],\"scatterternary\":[{\"marker\":{\"colorbar\":{\"outlinewidth\":0,\"ticks\":\"\"}},\"type\":\"scatterternary\"}],\"surface\":[{\"colorbar\":{\"outlinewidth\":0,\"ticks\":\"\"},\"colorscale\":[[0.0,\"#0d0887\"],[0.1111111111111111,\"#46039f\"],[0.2222222222222222,\"#7201a8\"],[0.3333333333333333,\"#9c179e\"],[0.4444444444444444,\"#bd3786\"],[0.5555555555555556,\"#d8576b\"],[0.6666666666666666,\"#ed7953\"],[0.7777777777777778,\"#fb9f3a\"],[0.8888888888888888,\"#fdca26\"],[1.0,\"#f0f921\"]],\"type\":\"surface\"}],\"table\":[{\"cells\":{\"fill\":{\"color\":\"#EBF0F8\"},\"line\":{\"color\":\"white\"}},\"header\":{\"fill\":{\"color\":\"#C8D4E3\"},\"line\":{\"color\":\"white\"}},\"type\":\"table\"}]},\"layout\":{\"annotationdefaults\":{\"arrowcolor\":\"#2a3f5f\",\"arrowhead\":0,\"arrowwidth\":1},\"autotypenumbers\":\"strict\",\"coloraxis\":{\"colorbar\":{\"outlinewidth\":0,\"ticks\":\"\"}},\"colorscale\":{\"diverging\":[[0,\"#8e0152\"],[0.1,\"#c51b7d\"],[0.2,\"#de77ae\"],[0.3,\"#f1b6da\"],[0.4,\"#fde0ef\"],[0.5,\"#f7f7f7\"],[0.6,\"#e6f5d0\"],[0.7,\"#b8e186\"],[0.8,\"#7fbc41\"],[0.9,\"#4d9221\"],[1,\"#276419\"]],\"sequential\":[[0.0,\"#0d0887\"],[0.1111111111111111,\"#46039f\"],[0.2222222222222222,\"#7201a8\"],[0.3333333333333333,\"#9c179e\"],[0.4444444444444444,\"#bd3786\"],[0.5555555555555556,\"#d8576b\"],[0.6666666666666666,\"#ed7953\"],[0.7777777777777778,\"#fb9f3a\"],[0.8888888888888888,\"#fdca26\"],[1.0,\"#f0f921\"]],\"sequentialminus\":[[0.0,\"#0d0887\"],[0.1111111111111111,\"#46039f\"],[0.2222222222222222,\"#7201a8\"],[0.3333333333333333,\"#9c179e\"],[0.4444444444444444,\"#bd3786\"],[0.5555555555555556,\"#d8576b\"],[0.6666666666666666,\"#ed7953\"],[0.7777777777777778,\"#fb9f3a\"],[0.8888888888888888,\"#fdca26\"],[1.0,\"#f0f921\"]]},\"colorway\":[\"#636efa\",\"#EF553B\",\"#00cc96\",\"#ab63fa\",\"#FFA15A\",\"#19d3f3\",\"#FF6692\",\"#B6E880\",\"#FF97FF\",\"#FECB52\"],\"font\":{\"color\":\"#2a3f5f\"},\"geo\":{\"bgcolor\":\"white\",\"lakecolor\":\"white\",\"landcolor\":\"#E5ECF6\",\"showlakes\":true,\"showland\":true,\"subunitcolor\":\"white\"},\"hoverlabel\":{\"align\":\"left\"},\"hovermode\":\"closest\",\"mapbox\":{\"style\":\"light\"},\"paper_bgcolor\":\"white\",\"plot_bgcolor\":\"#E5ECF6\",\"polar\":{\"angularaxis\":{\"gridcolor\":\"white\",\"linecolor\":\"white\",\"ticks\":\"\"},\"bgcolor\":\"#E5ECF6\",\"radialaxis\":{\"gridcolor\":\"white\",\"linecolor\":\"white\",\"ticks\":\"\"}},\"scene\":{\"xaxis\":{\"backgroundcolor\":\"#E5ECF6\",\"gridcolor\":\"white\",\"gridwidth\":2,\"linecolor\":\"white\",\"showbackground\":true,\"ticks\":\"\",\"zerolinecolor\":\"white\"},\"yaxis\":{\"backgroundcolor\":\"#E5ECF6\",\"gridcolor\":\"white\",\"gridwidth\":2,\"linecolor\":\"white\",\"showbackground\":true,\"ticks\":\"\",\"zerolinecolor\":\"white\"},\"zaxis\":{\"backgroundcolor\":\"#E5ECF6\",\"gridcolor\":\"white\",\"gridwidth\":2,\"linecolor\":\"white\",\"showbackground\":true,\"ticks\":\"\",\"zerolinecolor\":\"white\"}},\"shapedefaults\":{\"line\":{\"color\":\"#2a3f5f\"}},\"ternary\":{\"aaxis\":{\"gridcolor\":\"white\",\"linecolor\":\"white\",\"ticks\":\"\"},\"baxis\":{\"gridcolor\":\"white\",\"linecolor\":\"white\",\"ticks\":\"\"},\"bgcolor\":\"#E5ECF6\",\"caxis\":{\"gridcolor\":\"white\",\"linecolor\":\"white\",\"ticks\":\"\"}},\"title\":{\"x\":0.05},\"xaxis\":{\"automargin\":true,\"gridcolor\":\"white\",\"linecolor\":\"white\",\"ticks\":\"\",\"title\":{\"standoff\":15},\"zerolinecolor\":\"white\",\"zerolinewidth\":2},\"yaxis\":{\"automargin\":true,\"gridcolor\":\"white\",\"linecolor\":\"white\",\"ticks\":\"\",\"title\":{\"standoff\":15},\"zerolinecolor\":\"white\",\"zerolinewidth\":2}}},\"xaxis\":{\"anchor\":\"y\",\"domain\":[0.0,1.0],\"title\":{\"text\":\"Year\"}},\"yaxis\":{\"anchor\":\"x\",\"domain\":[0.0,1.0],\"title\":{\"text\":\"Number of Cars\"}},\"legend\":{\"tracegroupgap\":0},\"margin\":{\"t\":60},\"barmode\":\"relative\"},                        {\"responsive\": true}                    ).then(function(){\n",
       "                            \n",
       "var gd = document.getElementById('809f2384-d545-411b-a7ce-2e5777dbcd06');\n",
       "var x = new MutationObserver(function (mutations, observer) {{\n",
       "        var display = window.getComputedStyle(gd).display;\n",
       "        if (!display || display === 'none') {{\n",
       "            console.log([gd, 'removed!']);\n",
       "            Plotly.purge(gd);\n",
       "            observer.disconnect();\n",
       "        }}\n",
       "}});\n",
       "\n",
       "// Listen for the removal of the full notebook cells\n",
       "var notebookContainer = gd.closest('#notebook-container');\n",
       "if (notebookContainer) {{\n",
       "    x.observe(notebookContainer, {childList: true});\n",
       "}}\n",
       "\n",
       "// Listen for the clearing of the current output cell\n",
       "var outputEl = gd.closest('.output');\n",
       "if (outputEl) {{\n",
       "    x.observe(outputEl, {childList: true});\n",
       "}}\n",
       "\n",
       "                        })                };                });            </script>        </div>"
      ]
     },
     "metadata": {},
     "output_type": "display_data"
    }
   ],
   "source": [
    "Year = data['Year'].value_counts() #Looking at the most popular brand in chart form\n",
    "fig = px.bar(x=Year.index, y=Year.values, labels={'x':'Year', 'y':'Number of Cars'})\n",
    "fig.show()"
   ]
  },
  {
   "cell_type": "code",
   "execution_count": 14,
   "id": "b66a7efe",
   "metadata": {
    "ExecuteTime": {
     "end_time": "2023-01-23T00:54:41.215107Z",
     "start_time": "2023-01-23T00:54:41.174536Z"
    }
   },
   "outputs": [
    {
     "data": {
      "application/vnd.plotly.v1+json": {
       "config": {
        "plotlyServerURL": "https://plot.ly"
       },
       "data": [
        {
         "alignmentgroup": "True",
         "hovertemplate": "Name=%{x}<br>Number of Cars=%{y}<extra></extra>",
         "legendgroup": "",
         "marker": {
          "color": "#636efa",
          "pattern": {
           "shape": ""
          }
         },
         "name": "",
         "offsetgroup": "",
         "orientation": "v",
         "showlegend": false,
         "textposition": "auto",
         "type": "bar",
         "x": [
          " Toyota Corolla",
          " Hyundai Elantra",
          " Toyota Camry",
          " Nissan Rogue",
          " Honda Accord",
          " Honda Civic",
          " Nissan Altima",
          " Honda CR-V",
          " Nissan Sentra",
          " Jeep Compass",
          " Kia Sorento",
          " Nissan Rogue Sport",
          " Kia Optima",
          " Hyundai Sonata",
          " Chevrolet Cruze",
          " Ford Fusion",
          " Toyota Prius c",
          " Acura RDX",
          " Chevrolet Equinox",
          " Chevrolet Camaro",
          " Jeep Cherokee",
          " Ford Explorer",
          " Kia Soul",
          " Honda HR-V",
          " Kia Niro",
          " Lexus RX",
          " Volkswagen Jetta",
          " Acura MDX",
          " Ford Escape",
          " Kia Sportage",
          " Ford Focus",
          " Nissan Versa",
          " Ford Mustang",
          " Kia Forte",
          " Buick Encore",
          " Jeep Renegade",
          " Volkswagen Passat",
          " Dodge Grand Caravan Passenger",
          " Toyota Prius",
          " Chevrolet Trax",
          " Hyundai Accent",
          " Nissan Kicks",
          " Hyundai Tucson",
          " Chevrolet Malibu",
          " Ford Fiesta",
          " Dodge Journey",
          " Ford EcoSport",
          " Honda Fit",
          " Nissan Murano",
          " Volkswagen Tiguan",
          " Ford Edge",
          " GMC Terrain",
          " Chevrolet Spark",
          " Mitsubishi Outlander Sport",
          " Lincoln MKC",
          " Volkswagen Beetle",
          " Chevrolet Sonic",
          " GMC Acadia",
          " Jeep Grand Cherokee",
          " Hyundai Veloster",
          " Hyundai Santa Fe Sport",
          " Jeep Patriot",
          " Subaru Outback",
          " Nissan LEAF",
          " Toyota Sienna",
          " Kia Rio",
          " Chevrolet Impala",
          " Hyundai Santa Fe",
          " Dodge Charger",
          " Chevrolet Traverse",
          " Chrysler Pacifica",
          " MINI Countryman",
          " Subaru Forester",
          " Lexus ES",
          " Toyota C-HR",
          " Toyota Avalon",
          " Volkswagen Golf GTI",
          " Honda Odyssey",
          " Mercedes-Benz E-Class",
          " Subaru Crosstrek",
          " Nissan Pathfinder",
          " Toyota Yaris",
          " Lexus IS",
          " Jeep Wrangler",
          " Dodge Challenger",
          " Mercedes-Benz C-Class",
          " Nissan Maxima",
          " Mercedes-Benz CLK-Class",
          " Hyundai Kona",
          " Honda Pilot",
          " Volkswagen Golf",
          " Cadillac ATS",
          " Mitsubishi Mirage",
          " Subaru Impreza",
          " Hyundai Venue",
          " Nissan Rogue Select",
          " Ford Flex",
          " Buick Verano",
          " Buick Enclave",
          " Nissan JUKE",
          " Nissan Versa Note",
          " Buick LaCrosse",
          " Toyota Tacoma Double Cab",
          " Chrysler Town & Country",
          " Dodge Dart",
          " Toyota Highlander",
          " Chevrolet Corvette",
          " Mitsubishi Outlander",
          " MINI Convertible",
          " Chevrolet Volt",
          " Buick Envision",
          " Volkswagen CC",
          " Hyundai Genesis",
          " Chevrolet Trailblazer",
          " Subaru Legacy",
          " Ford Taurus",
          " Lincoln MKZ",
          " Chevrolet Cruze Limited",
          " Volkswagen Jetta SportWagen",
          " Nissan Frontier Crew Cab",
          " INFINITI G",
          " Chevrolet Colorado Crew Cab",
          " Chevrolet Blazer",
          " Chevrolet Spark EV",
          " Chevrolet Captiva Sport",
          " Ford Bronco Sport",
          " Jeep Wrangler Unlimited",
          " Toyota Venza",
          " Acura ILX",
          " Toyota Prius v",
          " Mercedes-Benz SLK-Class",
          " Volkswagen e-Golf",
          " Dodge Durango",
          " Scion tC",
          " Acura TSX",
          " Tesla Model Y",
          " MINI Clubman",
          " Kia Sedona",
          " Cadillac CTS",
          " MINI Hardtop",
          " Mercedes-Benz GLC",
          " Scion iM",
          " Mercedes-Benz CLA",
          " Lexus NX",
          " Kia Cadenza",
          " Buick Encore GX",
          " Buick Regal",
          " smart fortwo",
          " Hyundai Sonata Hybrid",
          " Lexus CT",
          " Toyota Corolla Hatchback",
          " Subaru WRX",
          " Honda Insight",
          " Hyundai Ioniq Hybrid",
          " Acura TLX",
          " Mercedes-Benz GLA",
          " Land Rover Range Rover Evoque",
          " Kia Seltos",
          " Scion FR-S",
          " Lexus GS",
          " Toyota Tundra CrewMax",
          " Nissan Armada",
          " Volkswagen Tiguan Limited",
          " Mitsubishi Eclipse Cross",
          " Lincoln MKS",
          " Ford Bronco",
          " Lincoln MKX",
          " Volkswagen GTI",
          " Cadillac SRX",
          " GMC Canyon Crew Cab",
          " Subaru XV Crosstrek",
          " Hyundai Azera",
          " Chrysler Voyager",
          " Volkswagen Golf SportWagen",
          " Cadillac XTS",
          " Mercedes-Benz CLA-Class",
          " Toyota Yaris iA",
          " Nissan Frontier King Cab",
          " Dodge Avenger",
          " Volkswagen Atlas",
          " Toyota Corolla iM",
          " Nissan Titan Crew Cab",
          " Lexus GX",
          " Hyundai Santa Cruz",
          " Ford Fusion Energi",
          " MINI Paceman",
          " Buick Cascada",
          " Acura TL",
          " Lexus LS",
          " Volkswagen Golf Alltrack",
          " Hyundai Elantra GT",
          " Jaguar XF",
          " Lexus RC",
          " Honda Ridgeline",
          " Honda Accord Hybrid",
          " smart fortwo electric drive",
          " Toyota Camry Hybrid",
          " Volkswagen Touareg",
          " Toyota Prius Prime",
          " Chrysler Sebring",
          " Volkswagen Eos",
          " Mercedes-Benz SL-Class",
          " Mercedes-Benz A-Class",
          " Porsche Macan",
          " Nissan Quest",
          " Cadillac DTS",
          " Ford Expedition MAX",
          " Ford Expedition",
          " Mercedes-Benz M-Class",
          " Alfa Romeo Giulia",
          " Honda CR-Z",
          " Jeep Gladiator",
          " Mercedes-Benz GLE",
          " Scion iA",
          " Ford Ranger SuperCrew",
          " Chevrolet Tahoe",
          " MINI Roadster",
          " Kia Telluride",
          " Lexus HS",
          " Honda Clarity Plug-in Hybrid",
          " GMC Yukon",
          " Scion xD",
          " Subaru Ascent",
          " Ford Transit Connect Passenger",
          " Honda Crosstour",
          " Land Rover Discovery Sport",
          " Ford C-MAX Hybrid",
          " Jaguar F-TYPE",
          " Kia Soul EV",
          " Jaguar XE",
          " Scion xB",
          " Toyota Yaris Hatchback",
          " Hyundai Tucson Hybrid",
          " Jaguar F-PACE",
          " Ford Mustang MACH-E",
          " Kia Optima Hybrid",
          " Volkswagen Atlas Cross Sport",
          " MINI Coupe",
          " Jaguar E-PACE",
          " Ford Maverick",
          " INFINITI FX",
          " GMC Acadia Limited",
          " Maserati Ghibli",
          " Tesla Model X",
          " Toyota Tundra Double Cab",
          " Land Rover Range Rover Sport",
          " Mercedes-Benz CLS-Class",
          " Toyota Tacoma Access Cab",
          " Kia Forte Koup",
          " Jaguar XJ",
          " Toyota Prius Plug-in Hybrid",
          " Lincoln Nautilus",
          " Saturn SKY",
          " Alfa Romeo Stelvio",
          " Mercedes-Benz R-Class",
          " Toyota GR Supra",
          " Kia Carnival",
          " Audi allroad",
          " Tesla Model S",
          " smart fortwo electric drive cabrio",
          " Mercedes-Benz GLA-Class",
          " Toyota Matrix",
          " Chevrolet Suburban",
          " Toyota Corolla Hybrid",
          " Audi TT",
          " Mercedes-Benz S-Class",
          " Mercedes-Benz Mercedes-AMG C-Class",
          " Lexus UX",
          " Jeep Wagoneer",
          " Honda Civic Type R",
          " Lincoln Navigator",
          " Buick Regal Sportback",
          " Hyundai Palisade",
          " Toyota Corolla Cross",
          " Chevrolet Colorado Extended Cab",
          " Kia Sorento Plug-in Hybrid",
          " Kia Sorento Hybrid",
          " Kia Stinger",
          " Mercedes-Benz GLK-Class",
          " Hyundai Veracruz",
          " Chevrolet Bolt EV",
          " Hyundai Ioniq Electric",
          " Land Rover Range Rover Velar",
          " Honda Accord Crosstour",
          " Toyota Sequoia",
          " Ford Transit Connect Passenger Wagon",
          " GMC Yukon XL",
          " Buick Lucerne",
          " Hyundai Equus",
          " Porsche Panamera",
          " Mercedes-Benz B-Class",
          " Hyundai Ioniq Plug-in Hybrid",
          " Toyota Highlander Hybrid",
          " Hyundai Sonata Plug-in Hybrid",
          " Volkswagen Jetta GLI",
          " Subaru BRZ",
          " Pontiac Solstice",
          " Acura RLX",
          " Cadillac ELR",
          " Land Rover Discovery",
          " Porsche Boxster",
          " Nissan Xterra",
          " INFINITI EX",
          " MAZDA Tribute",
          " Kia Niro EV",
          " Chevrolet Impala Limited",
          " Lincoln Corsair",
          " Volkswagen Routan",
          " Lincoln Town Car",
          " Scion iQ",
          " Mitsubishi i-MiEV",
          " INFINITI JX",
          " Maserati Quattroporte",
          " INFINITI M",
          " Chevrolet City Express",
          " Ford Focus ST",
          " Volkswagen New Beetle",
          " Chevrolet Malibu Limited",
          " Honda CR-V Hybrid",
          " Mitsubishi Lancer",
          " Mercedes-Benz GLB",
          " Ford C-MAX Energi",
          " Lexus LC",
          " Mercedes-Benz SL",
          " Mercedes-Benz Mercedes-AMG GLE Coupe",
          " Maserati Levante",
          " Toyota FJ Cruiser",
          " Audi e-tron",
          " Acura MDX Sport Hybrid",
          " Honda Passport",
          " Porsche Cayenne",
          " Mitsubishi Outlander PHEV",
          " Mercedes-Benz GLS",
          " Cadillac Escalade ESV",
          " Mercedes-Benz SLC",
          " Jeep Grand Cherokee L",
          " Mercedes-Benz Mercedes-AMG SLC",
          " Toyota Tundra Hybrid CrewMax",
          " Jeep Liberty",
          " Land Rover Range Rover",
          " Maserati GranTurismo",
          " Nissan TITAN XD Crew Cab",
          " Ford Expedition EL",
          " Mercedes-Benz Mercedes-AMG GLC",
          " Hyundai Genesis Coupe",
          "Kia Sorento"
         ],
         "xaxis": "x",
         "y": [
          835,
          738,
          725,
          528,
          521,
          486,
          454,
          444,
          372,
          362,
          361,
          308,
          307,
          301,
          294,
          274,
          260,
          258,
          257,
          256,
          254,
          254,
          249,
          236,
          225,
          222,
          217,
          212,
          194,
          190,
          183,
          182,
          178,
          175,
          168,
          157,
          157,
          150,
          143,
          143,
          138,
          135,
          126,
          122,
          122,
          120,
          115,
          114,
          109,
          107,
          104,
          103,
          100,
          100,
          99,
          91,
          91,
          90,
          86,
          86,
          85,
          81,
          81,
          76,
          76,
          73,
          73,
          71,
          70,
          66,
          65,
          65,
          64,
          62,
          61,
          61,
          59,
          58,
          56,
          55,
          53,
          53,
          52,
          52,
          48,
          48,
          48,
          48,
          48,
          47,
          47,
          47,
          45,
          45,
          44,
          44,
          44,
          42,
          42,
          41,
          40,
          40,
          40,
          38,
          36,
          35,
          35,
          35,
          35,
          34,
          33,
          33,
          32,
          32,
          32,
          32,
          31,
          30,
          30,
          29,
          27,
          26,
          26,
          25,
          25,
          23,
          23,
          22,
          22,
          22,
          22,
          21,
          21,
          20,
          20,
          20,
          20,
          20,
          20,
          20,
          19,
          19,
          18,
          18,
          18,
          18,
          18,
          17,
          17,
          17,
          17,
          16,
          16,
          16,
          16,
          15,
          15,
          15,
          15,
          15,
          14,
          14,
          14,
          14,
          14,
          14,
          14,
          14,
          14,
          13,
          13,
          13,
          13,
          13,
          13,
          13,
          12,
          12,
          12,
          12,
          12,
          11,
          11,
          11,
          11,
          11,
          11,
          11,
          10,
          10,
          10,
          10,
          10,
          10,
          10,
          9,
          9,
          9,
          9,
          9,
          9,
          9,
          9,
          8,
          8,
          8,
          8,
          8,
          8,
          8,
          8,
          8,
          7,
          7,
          7,
          7,
          7,
          7,
          7,
          7,
          7,
          7,
          7,
          7,
          7,
          7,
          6,
          6,
          6,
          6,
          6,
          6,
          6,
          6,
          6,
          6,
          5,
          5,
          5,
          5,
          5,
          5,
          5,
          5,
          5,
          5,
          5,
          5,
          4,
          4,
          4,
          4,
          4,
          4,
          4,
          4,
          4,
          4,
          4,
          4,
          4,
          4,
          3,
          3,
          3,
          3,
          3,
          3,
          3,
          3,
          3,
          3,
          3,
          3,
          3,
          3,
          3,
          3,
          3,
          3,
          3,
          3,
          3,
          3,
          3,
          2,
          2,
          2,
          2,
          2,
          2,
          2,
          2,
          2,
          2,
          2,
          2,
          2,
          2,
          2,
          2,
          2,
          2,
          2,
          2,
          2,
          2,
          2,
          2,
          2,
          2,
          2,
          2,
          2,
          1,
          1,
          1,
          1,
          1,
          1,
          1,
          1,
          1,
          1,
          1,
          1,
          1,
          1,
          1,
          1,
          1,
          1,
          1,
          1,
          1,
          1,
          1,
          1,
          1,
          1,
          1,
          1,
          1,
          1,
          1,
          1
         ],
         "yaxis": "y"
        }
       ],
       "layout": {
        "barmode": "relative",
        "legend": {
         "tracegroupgap": 0
        },
        "margin": {
         "t": 60
        },
        "template": {
         "data": {
          "bar": [
           {
            "error_x": {
             "color": "#2a3f5f"
            },
            "error_y": {
             "color": "#2a3f5f"
            },
            "marker": {
             "line": {
              "color": "#E5ECF6",
              "width": 0.5
             },
             "pattern": {
              "fillmode": "overlay",
              "size": 10,
              "solidity": 0.2
             }
            },
            "type": "bar"
           }
          ],
          "barpolar": [
           {
            "marker": {
             "line": {
              "color": "#E5ECF6",
              "width": 0.5
             },
             "pattern": {
              "fillmode": "overlay",
              "size": 10,
              "solidity": 0.2
             }
            },
            "type": "barpolar"
           }
          ],
          "carpet": [
           {
            "aaxis": {
             "endlinecolor": "#2a3f5f",
             "gridcolor": "white",
             "linecolor": "white",
             "minorgridcolor": "white",
             "startlinecolor": "#2a3f5f"
            },
            "baxis": {
             "endlinecolor": "#2a3f5f",
             "gridcolor": "white",
             "linecolor": "white",
             "minorgridcolor": "white",
             "startlinecolor": "#2a3f5f"
            },
            "type": "carpet"
           }
          ],
          "choropleth": [
           {
            "colorbar": {
             "outlinewidth": 0,
             "ticks": ""
            },
            "type": "choropleth"
           }
          ],
          "contour": [
           {
            "colorbar": {
             "outlinewidth": 0,
             "ticks": ""
            },
            "colorscale": [
             [
              0,
              "#0d0887"
             ],
             [
              0.1111111111111111,
              "#46039f"
             ],
             [
              0.2222222222222222,
              "#7201a8"
             ],
             [
              0.3333333333333333,
              "#9c179e"
             ],
             [
              0.4444444444444444,
              "#bd3786"
             ],
             [
              0.5555555555555556,
              "#d8576b"
             ],
             [
              0.6666666666666666,
              "#ed7953"
             ],
             [
              0.7777777777777778,
              "#fb9f3a"
             ],
             [
              0.8888888888888888,
              "#fdca26"
             ],
             [
              1,
              "#f0f921"
             ]
            ],
            "type": "contour"
           }
          ],
          "contourcarpet": [
           {
            "colorbar": {
             "outlinewidth": 0,
             "ticks": ""
            },
            "type": "contourcarpet"
           }
          ],
          "heatmap": [
           {
            "colorbar": {
             "outlinewidth": 0,
             "ticks": ""
            },
            "colorscale": [
             [
              0,
              "#0d0887"
             ],
             [
              0.1111111111111111,
              "#46039f"
             ],
             [
              0.2222222222222222,
              "#7201a8"
             ],
             [
              0.3333333333333333,
              "#9c179e"
             ],
             [
              0.4444444444444444,
              "#bd3786"
             ],
             [
              0.5555555555555556,
              "#d8576b"
             ],
             [
              0.6666666666666666,
              "#ed7953"
             ],
             [
              0.7777777777777778,
              "#fb9f3a"
             ],
             [
              0.8888888888888888,
              "#fdca26"
             ],
             [
              1,
              "#f0f921"
             ]
            ],
            "type": "heatmap"
           }
          ],
          "heatmapgl": [
           {
            "colorbar": {
             "outlinewidth": 0,
             "ticks": ""
            },
            "colorscale": [
             [
              0,
              "#0d0887"
             ],
             [
              0.1111111111111111,
              "#46039f"
             ],
             [
              0.2222222222222222,
              "#7201a8"
             ],
             [
              0.3333333333333333,
              "#9c179e"
             ],
             [
              0.4444444444444444,
              "#bd3786"
             ],
             [
              0.5555555555555556,
              "#d8576b"
             ],
             [
              0.6666666666666666,
              "#ed7953"
             ],
             [
              0.7777777777777778,
              "#fb9f3a"
             ],
             [
              0.8888888888888888,
              "#fdca26"
             ],
             [
              1,
              "#f0f921"
             ]
            ],
            "type": "heatmapgl"
           }
          ],
          "histogram": [
           {
            "marker": {
             "pattern": {
              "fillmode": "overlay",
              "size": 10,
              "solidity": 0.2
             }
            },
            "type": "histogram"
           }
          ],
          "histogram2d": [
           {
            "colorbar": {
             "outlinewidth": 0,
             "ticks": ""
            },
            "colorscale": [
             [
              0,
              "#0d0887"
             ],
             [
              0.1111111111111111,
              "#46039f"
             ],
             [
              0.2222222222222222,
              "#7201a8"
             ],
             [
              0.3333333333333333,
              "#9c179e"
             ],
             [
              0.4444444444444444,
              "#bd3786"
             ],
             [
              0.5555555555555556,
              "#d8576b"
             ],
             [
              0.6666666666666666,
              "#ed7953"
             ],
             [
              0.7777777777777778,
              "#fb9f3a"
             ],
             [
              0.8888888888888888,
              "#fdca26"
             ],
             [
              1,
              "#f0f921"
             ]
            ],
            "type": "histogram2d"
           }
          ],
          "histogram2dcontour": [
           {
            "colorbar": {
             "outlinewidth": 0,
             "ticks": ""
            },
            "colorscale": [
             [
              0,
              "#0d0887"
             ],
             [
              0.1111111111111111,
              "#46039f"
             ],
             [
              0.2222222222222222,
              "#7201a8"
             ],
             [
              0.3333333333333333,
              "#9c179e"
             ],
             [
              0.4444444444444444,
              "#bd3786"
             ],
             [
              0.5555555555555556,
              "#d8576b"
             ],
             [
              0.6666666666666666,
              "#ed7953"
             ],
             [
              0.7777777777777778,
              "#fb9f3a"
             ],
             [
              0.8888888888888888,
              "#fdca26"
             ],
             [
              1,
              "#f0f921"
             ]
            ],
            "type": "histogram2dcontour"
           }
          ],
          "mesh3d": [
           {
            "colorbar": {
             "outlinewidth": 0,
             "ticks": ""
            },
            "type": "mesh3d"
           }
          ],
          "parcoords": [
           {
            "line": {
             "colorbar": {
              "outlinewidth": 0,
              "ticks": ""
             }
            },
            "type": "parcoords"
           }
          ],
          "pie": [
           {
            "automargin": true,
            "type": "pie"
           }
          ],
          "scatter": [
           {
            "marker": {
             "colorbar": {
              "outlinewidth": 0,
              "ticks": ""
             }
            },
            "type": "scatter"
           }
          ],
          "scatter3d": [
           {
            "line": {
             "colorbar": {
              "outlinewidth": 0,
              "ticks": ""
             }
            },
            "marker": {
             "colorbar": {
              "outlinewidth": 0,
              "ticks": ""
             }
            },
            "type": "scatter3d"
           }
          ],
          "scattercarpet": [
           {
            "marker": {
             "colorbar": {
              "outlinewidth": 0,
              "ticks": ""
             }
            },
            "type": "scattercarpet"
           }
          ],
          "scattergeo": [
           {
            "marker": {
             "colorbar": {
              "outlinewidth": 0,
              "ticks": ""
             }
            },
            "type": "scattergeo"
           }
          ],
          "scattergl": [
           {
            "marker": {
             "colorbar": {
              "outlinewidth": 0,
              "ticks": ""
             }
            },
            "type": "scattergl"
           }
          ],
          "scattermapbox": [
           {
            "marker": {
             "colorbar": {
              "outlinewidth": 0,
              "ticks": ""
             }
            },
            "type": "scattermapbox"
           }
          ],
          "scatterpolar": [
           {
            "marker": {
             "colorbar": {
              "outlinewidth": 0,
              "ticks": ""
             }
            },
            "type": "scatterpolar"
           }
          ],
          "scatterpolargl": [
           {
            "marker": {
             "colorbar": {
              "outlinewidth": 0,
              "ticks": ""
             }
            },
            "type": "scatterpolargl"
           }
          ],
          "scatterternary": [
           {
            "marker": {
             "colorbar": {
              "outlinewidth": 0,
              "ticks": ""
             }
            },
            "type": "scatterternary"
           }
          ],
          "surface": [
           {
            "colorbar": {
             "outlinewidth": 0,
             "ticks": ""
            },
            "colorscale": [
             [
              0,
              "#0d0887"
             ],
             [
              0.1111111111111111,
              "#46039f"
             ],
             [
              0.2222222222222222,
              "#7201a8"
             ],
             [
              0.3333333333333333,
              "#9c179e"
             ],
             [
              0.4444444444444444,
              "#bd3786"
             ],
             [
              0.5555555555555556,
              "#d8576b"
             ],
             [
              0.6666666666666666,
              "#ed7953"
             ],
             [
              0.7777777777777778,
              "#fb9f3a"
             ],
             [
              0.8888888888888888,
              "#fdca26"
             ],
             [
              1,
              "#f0f921"
             ]
            ],
            "type": "surface"
           }
          ],
          "table": [
           {
            "cells": {
             "fill": {
              "color": "#EBF0F8"
             },
             "line": {
              "color": "white"
             }
            },
            "header": {
             "fill": {
              "color": "#C8D4E3"
             },
             "line": {
              "color": "white"
             }
            },
            "type": "table"
           }
          ]
         },
         "layout": {
          "annotationdefaults": {
           "arrowcolor": "#2a3f5f",
           "arrowhead": 0,
           "arrowwidth": 1
          },
          "autotypenumbers": "strict",
          "coloraxis": {
           "colorbar": {
            "outlinewidth": 0,
            "ticks": ""
           }
          },
          "colorscale": {
           "diverging": [
            [
             0,
             "#8e0152"
            ],
            [
             0.1,
             "#c51b7d"
            ],
            [
             0.2,
             "#de77ae"
            ],
            [
             0.3,
             "#f1b6da"
            ],
            [
             0.4,
             "#fde0ef"
            ],
            [
             0.5,
             "#f7f7f7"
            ],
            [
             0.6,
             "#e6f5d0"
            ],
            [
             0.7,
             "#b8e186"
            ],
            [
             0.8,
             "#7fbc41"
            ],
            [
             0.9,
             "#4d9221"
            ],
            [
             1,
             "#276419"
            ]
           ],
           "sequential": [
            [
             0,
             "#0d0887"
            ],
            [
             0.1111111111111111,
             "#46039f"
            ],
            [
             0.2222222222222222,
             "#7201a8"
            ],
            [
             0.3333333333333333,
             "#9c179e"
            ],
            [
             0.4444444444444444,
             "#bd3786"
            ],
            [
             0.5555555555555556,
             "#d8576b"
            ],
            [
             0.6666666666666666,
             "#ed7953"
            ],
            [
             0.7777777777777778,
             "#fb9f3a"
            ],
            [
             0.8888888888888888,
             "#fdca26"
            ],
            [
             1,
             "#f0f921"
            ]
           ],
           "sequentialminus": [
            [
             0,
             "#0d0887"
            ],
            [
             0.1111111111111111,
             "#46039f"
            ],
            [
             0.2222222222222222,
             "#7201a8"
            ],
            [
             0.3333333333333333,
             "#9c179e"
            ],
            [
             0.4444444444444444,
             "#bd3786"
            ],
            [
             0.5555555555555556,
             "#d8576b"
            ],
            [
             0.6666666666666666,
             "#ed7953"
            ],
            [
             0.7777777777777778,
             "#fb9f3a"
            ],
            [
             0.8888888888888888,
             "#fdca26"
            ],
            [
             1,
             "#f0f921"
            ]
           ]
          },
          "colorway": [
           "#636efa",
           "#EF553B",
           "#00cc96",
           "#ab63fa",
           "#FFA15A",
           "#19d3f3",
           "#FF6692",
           "#B6E880",
           "#FF97FF",
           "#FECB52"
          ],
          "font": {
           "color": "#2a3f5f"
          },
          "geo": {
           "bgcolor": "white",
           "lakecolor": "white",
           "landcolor": "#E5ECF6",
           "showlakes": true,
           "showland": true,
           "subunitcolor": "white"
          },
          "hoverlabel": {
           "align": "left"
          },
          "hovermode": "closest",
          "mapbox": {
           "style": "light"
          },
          "paper_bgcolor": "white",
          "plot_bgcolor": "#E5ECF6",
          "polar": {
           "angularaxis": {
            "gridcolor": "white",
            "linecolor": "white",
            "ticks": ""
           },
           "bgcolor": "#E5ECF6",
           "radialaxis": {
            "gridcolor": "white",
            "linecolor": "white",
            "ticks": ""
           }
          },
          "scene": {
           "xaxis": {
            "backgroundcolor": "#E5ECF6",
            "gridcolor": "white",
            "gridwidth": 2,
            "linecolor": "white",
            "showbackground": true,
            "ticks": "",
            "zerolinecolor": "white"
           },
           "yaxis": {
            "backgroundcolor": "#E5ECF6",
            "gridcolor": "white",
            "gridwidth": 2,
            "linecolor": "white",
            "showbackground": true,
            "ticks": "",
            "zerolinecolor": "white"
           },
           "zaxis": {
            "backgroundcolor": "#E5ECF6",
            "gridcolor": "white",
            "gridwidth": 2,
            "linecolor": "white",
            "showbackground": true,
            "ticks": "",
            "zerolinecolor": "white"
           }
          },
          "shapedefaults": {
           "line": {
            "color": "#2a3f5f"
           }
          },
          "ternary": {
           "aaxis": {
            "gridcolor": "white",
            "linecolor": "white",
            "ticks": ""
           },
           "baxis": {
            "gridcolor": "white",
            "linecolor": "white",
            "ticks": ""
           },
           "bgcolor": "#E5ECF6",
           "caxis": {
            "gridcolor": "white",
            "linecolor": "white",
            "ticks": ""
           }
          },
          "title": {
           "x": 0.05
          },
          "xaxis": {
           "automargin": true,
           "gridcolor": "white",
           "linecolor": "white",
           "ticks": "",
           "title": {
            "standoff": 15
           },
           "zerolinecolor": "white",
           "zerolinewidth": 2
          },
          "yaxis": {
           "automargin": true,
           "gridcolor": "white",
           "linecolor": "white",
           "ticks": "",
           "title": {
            "standoff": 15
           },
           "zerolinecolor": "white",
           "zerolinewidth": 2
          }
         }
        },
        "xaxis": {
         "anchor": "y",
         "domain": [
          0,
          1
         ],
         "title": {
          "text": "Name"
         }
        },
        "yaxis": {
         "anchor": "x",
         "domain": [
          0,
          1
         ],
         "title": {
          "text": "Number of Cars"
         }
        }
       }
      },
      "text/html": [
       "<div>                            <div id=\"2705ee54-d898-4663-af86-8ad5523625b5\" class=\"plotly-graph-div\" style=\"height:525px; width:100%;\"></div>            <script type=\"text/javascript\">                require([\"plotly\"], function(Plotly) {                    window.PLOTLYENV=window.PLOTLYENV || {};                                    if (document.getElementById(\"2705ee54-d898-4663-af86-8ad5523625b5\")) {                    Plotly.newPlot(                        \"2705ee54-d898-4663-af86-8ad5523625b5\",                        [{\"alignmentgroup\":\"True\",\"hovertemplate\":\"Name=%{x}<br>Number of Cars=%{y}<extra></extra>\",\"legendgroup\":\"\",\"marker\":{\"color\":\"#636efa\",\"pattern\":{\"shape\":\"\"}},\"name\":\"\",\"offsetgroup\":\"\",\"orientation\":\"v\",\"showlegend\":false,\"textposition\":\"auto\",\"x\":[\" Toyota Corolla\",\" Hyundai Elantra\",\" Toyota Camry\",\" Nissan Rogue\",\" Honda Accord\",\" Honda Civic\",\" Nissan Altima\",\" Honda CR-V\",\" Nissan Sentra\",\" Jeep Compass\",\" Kia Sorento\",\" Nissan Rogue Sport\",\" Kia Optima\",\" Hyundai Sonata\",\" Chevrolet Cruze\",\" Ford Fusion\",\" Toyota Prius c\",\" Acura RDX\",\" Chevrolet Equinox\",\" Chevrolet Camaro\",\" Jeep Cherokee\",\" Ford Explorer\",\" Kia Soul\",\" Honda HR-V\",\" Kia Niro\",\" Lexus RX\",\" Volkswagen Jetta\",\" Acura MDX\",\" Ford Escape\",\" Kia Sportage\",\" Ford Focus\",\" Nissan Versa\",\" Ford Mustang\",\" Kia Forte\",\" Buick Encore\",\" Jeep Renegade\",\" Volkswagen Passat\",\" Dodge Grand Caravan Passenger\",\" Toyota Prius\",\" Chevrolet Trax\",\" Hyundai Accent\",\" Nissan Kicks\",\" Hyundai Tucson\",\" Chevrolet Malibu\",\" Ford Fiesta\",\" Dodge Journey\",\" Ford EcoSport\",\" Honda Fit\",\" Nissan Murano\",\" Volkswagen Tiguan\",\" Ford Edge\",\" GMC Terrain\",\" Chevrolet Spark\",\" Mitsubishi Outlander Sport\",\" Lincoln MKC\",\" Volkswagen Beetle\",\" Chevrolet Sonic\",\" GMC Acadia\",\" Jeep Grand Cherokee\",\" Hyundai Veloster\",\" Hyundai Santa Fe Sport\",\" Jeep Patriot\",\" Subaru Outback\",\" Nissan LEAF\",\" Toyota Sienna\",\" Kia Rio\",\" Chevrolet Impala\",\" Hyundai Santa Fe\",\" Dodge Charger\",\" Chevrolet Traverse\",\" Chrysler Pacifica\",\" MINI Countryman\",\" Subaru Forester\",\" Lexus ES\",\" Toyota C-HR\",\" Toyota Avalon\",\" Volkswagen Golf GTI\",\" Honda Odyssey\",\" Mercedes-Benz E-Class\",\" Subaru Crosstrek\",\" Nissan Pathfinder\",\" Toyota Yaris\",\" Lexus IS\",\" Jeep Wrangler\",\" Dodge Challenger\",\" Mercedes-Benz C-Class\",\" Nissan Maxima\",\" Mercedes-Benz CLK-Class\",\" Hyundai Kona\",\" Honda Pilot\",\" Volkswagen Golf\",\" Cadillac ATS\",\" Mitsubishi Mirage\",\" Subaru Impreza\",\" Hyundai Venue\",\" Nissan Rogue Select\",\" Ford Flex\",\" Buick Verano\",\" Buick Enclave\",\" Nissan JUKE\",\" Nissan Versa Note\",\" Buick LaCrosse\",\" Toyota Tacoma Double Cab\",\" Chrysler Town & Country\",\" Dodge Dart\",\" Toyota Highlander\",\" Chevrolet Corvette\",\" Mitsubishi Outlander\",\" MINI Convertible\",\" Chevrolet Volt\",\" Buick Envision\",\" Volkswagen CC\",\" Hyundai Genesis\",\" Chevrolet Trailblazer\",\" Subaru Legacy\",\" Ford Taurus\",\" Lincoln MKZ\",\" Chevrolet Cruze Limited\",\" Volkswagen Jetta SportWagen\",\" Nissan Frontier Crew Cab\",\" INFINITI G\",\" Chevrolet Colorado Crew Cab\",\" Chevrolet Blazer\",\" Chevrolet Spark EV\",\" Chevrolet Captiva Sport\",\" Ford Bronco Sport\",\" Jeep Wrangler Unlimited\",\" Toyota Venza\",\" Acura ILX\",\" Toyota Prius v\",\" Mercedes-Benz SLK-Class\",\" Volkswagen e-Golf\",\" Dodge Durango\",\" Scion tC\",\" Acura TSX\",\" Tesla Model Y\",\" MINI Clubman\",\" Kia Sedona\",\" Cadillac CTS\",\" MINI Hardtop\",\" Mercedes-Benz GLC\",\" Scion iM\",\" Mercedes-Benz CLA\",\" Lexus NX\",\" Kia Cadenza\",\" Buick Encore GX\",\" Buick Regal\",\" smart fortwo\",\" Hyundai Sonata Hybrid\",\" Lexus CT\",\" Toyota Corolla Hatchback\",\" Subaru WRX\",\" Honda Insight\",\" Hyundai Ioniq Hybrid\",\" Acura TLX\",\" Mercedes-Benz GLA\",\" Land Rover Range Rover Evoque\",\" Kia Seltos\",\" Scion FR-S\",\" Lexus GS\",\" Toyota Tundra CrewMax\",\" Nissan Armada\",\" Volkswagen Tiguan Limited\",\" Mitsubishi Eclipse Cross\",\" Lincoln MKS\",\" Ford Bronco\",\" Lincoln MKX\",\" Volkswagen GTI\",\" Cadillac SRX\",\" GMC Canyon Crew Cab\",\" Subaru XV Crosstrek\",\" Hyundai Azera\",\" Chrysler Voyager\",\" Volkswagen Golf SportWagen\",\" Cadillac XTS\",\" Mercedes-Benz CLA-Class\",\" Toyota Yaris iA\",\" Nissan Frontier King Cab\",\" Dodge Avenger\",\" Volkswagen Atlas\",\" Toyota Corolla iM\",\" Nissan Titan Crew Cab\",\" Lexus GX\",\" Hyundai Santa Cruz\",\" Ford Fusion Energi\",\" MINI Paceman\",\" Buick Cascada\",\" Acura TL\",\" Lexus LS\",\" Volkswagen Golf Alltrack\",\" Hyundai Elantra GT\",\" Jaguar XF\",\" Lexus RC\",\" Honda Ridgeline\",\" Honda Accord Hybrid\",\" smart fortwo electric drive\",\" Toyota Camry Hybrid\",\" Volkswagen Touareg\",\" Toyota Prius Prime\",\" Chrysler Sebring\",\" Volkswagen Eos\",\" Mercedes-Benz SL-Class\",\" Mercedes-Benz A-Class\",\" Porsche Macan\",\" Nissan Quest\",\" Cadillac DTS\",\" Ford Expedition MAX\",\" Ford Expedition\",\" Mercedes-Benz M-Class\",\" Alfa Romeo Giulia\",\" Honda CR-Z\",\" Jeep Gladiator\",\" Mercedes-Benz GLE\",\" Scion iA\",\" Ford Ranger SuperCrew\",\" Chevrolet Tahoe\",\" MINI Roadster\",\" Kia Telluride\",\" Lexus HS\",\" Honda Clarity Plug-in Hybrid\",\" GMC Yukon\",\" Scion xD\",\" Subaru Ascent\",\" Ford Transit Connect Passenger\",\" Honda Crosstour\",\" Land Rover Discovery Sport\",\" Ford C-MAX Hybrid\",\" Jaguar F-TYPE\",\" Kia Soul EV\",\" Jaguar XE\",\" Scion xB\",\" Toyota Yaris Hatchback\",\" Hyundai Tucson Hybrid\",\" Jaguar F-PACE\",\" Ford Mustang MACH-E\",\" Kia Optima Hybrid\",\" Volkswagen Atlas Cross Sport\",\" MINI Coupe\",\" Jaguar E-PACE\",\" Ford Maverick\",\" INFINITI FX\",\" GMC Acadia Limited\",\" Maserati Ghibli\",\" Tesla Model X\",\" Toyota Tundra Double Cab\",\" Land Rover Range Rover Sport\",\" Mercedes-Benz CLS-Class\",\" Toyota Tacoma Access Cab\",\" Kia Forte Koup\",\" Jaguar XJ\",\" Toyota Prius Plug-in Hybrid\",\" Lincoln Nautilus\",\" Saturn SKY\",\" Alfa Romeo Stelvio\",\" Mercedes-Benz R-Class\",\" Toyota GR Supra\",\" Kia Carnival\",\" Audi allroad\",\" Tesla Model S\",\" smart fortwo electric drive cabrio\",\" Mercedes-Benz GLA-Class\",\" Toyota Matrix\",\" Chevrolet Suburban\",\" Toyota Corolla Hybrid\",\" Audi TT\",\" Mercedes-Benz S-Class\",\" Mercedes-Benz Mercedes-AMG C-Class\",\" Lexus UX\",\" Jeep Wagoneer\",\" Honda Civic Type R\",\" Lincoln Navigator\",\" Buick Regal Sportback\",\" Hyundai Palisade\",\" Toyota Corolla Cross\",\" Chevrolet Colorado Extended Cab\",\" Kia Sorento Plug-in Hybrid\",\" Kia Sorento Hybrid\",\" Kia Stinger\",\" Mercedes-Benz GLK-Class\",\" Hyundai Veracruz\",\" Chevrolet Bolt EV\",\" Hyundai Ioniq Electric\",\" Land Rover Range Rover Velar\",\" Honda Accord Crosstour\",\" Toyota Sequoia\",\" Ford Transit Connect Passenger Wagon\",\" GMC Yukon XL\",\" Buick Lucerne\",\" Hyundai Equus\",\" Porsche Panamera\",\" Mercedes-Benz B-Class\",\" Hyundai Ioniq Plug-in Hybrid\",\" Toyota Highlander Hybrid\",\" Hyundai Sonata Plug-in Hybrid\",\" Volkswagen Jetta GLI\",\" Subaru BRZ\",\" Pontiac Solstice\",\" Acura RLX\",\" Cadillac ELR\",\" Land Rover Discovery\",\" Porsche Boxster\",\" Nissan Xterra\",\" INFINITI EX\",\" MAZDA Tribute\",\" Kia Niro EV\",\" Chevrolet Impala Limited\",\" Lincoln Corsair\",\" Volkswagen Routan\",\" Lincoln Town Car\",\" Scion iQ\",\" Mitsubishi i-MiEV\",\" INFINITI JX\",\" Maserati Quattroporte\",\" INFINITI M\",\" Chevrolet City Express\",\" Ford Focus ST\",\" Volkswagen New Beetle\",\" Chevrolet Malibu Limited\",\" Honda CR-V Hybrid\",\" Mitsubishi Lancer\",\" Mercedes-Benz GLB\",\" Ford C-MAX Energi\",\" Lexus LC\",\" Mercedes-Benz SL\",\" Mercedes-Benz Mercedes-AMG GLE Coupe\",\" Maserati Levante\",\" Toyota FJ Cruiser\",\" Audi e-tron\",\" Acura MDX Sport Hybrid\",\" Honda Passport\",\" Porsche Cayenne\",\" Mitsubishi Outlander PHEV\",\" Mercedes-Benz GLS\",\" Cadillac Escalade ESV\",\" Mercedes-Benz SLC\",\" Jeep Grand Cherokee L\",\" Mercedes-Benz Mercedes-AMG SLC\",\" Toyota Tundra Hybrid CrewMax\",\" Jeep Liberty\",\" Land Rover Range Rover\",\" Maserati GranTurismo\",\" Nissan TITAN XD Crew Cab\",\" Ford Expedition EL\",\" Mercedes-Benz Mercedes-AMG GLC\",\" Hyundai Genesis Coupe\",\"Kia Sorento\"],\"xaxis\":\"x\",\"y\":[835,738,725,528,521,486,454,444,372,362,361,308,307,301,294,274,260,258,257,256,254,254,249,236,225,222,217,212,194,190,183,182,178,175,168,157,157,150,143,143,138,135,126,122,122,120,115,114,109,107,104,103,100,100,99,91,91,90,86,86,85,81,81,76,76,73,73,71,70,66,65,65,64,62,61,61,59,58,56,55,53,53,52,52,48,48,48,48,48,47,47,47,45,45,44,44,44,42,42,41,40,40,40,38,36,35,35,35,35,34,33,33,32,32,32,32,31,30,30,29,27,26,26,25,25,23,23,22,22,22,22,21,21,20,20,20,20,20,20,20,19,19,18,18,18,18,18,17,17,17,17,16,16,16,16,15,15,15,15,15,14,14,14,14,14,14,14,14,14,13,13,13,13,13,13,13,12,12,12,12,12,11,11,11,11,11,11,11,10,10,10,10,10,10,10,9,9,9,9,9,9,9,9,8,8,8,8,8,8,8,8,8,7,7,7,7,7,7,7,7,7,7,7,7,7,7,6,6,6,6,6,6,6,6,6,6,5,5,5,5,5,5,5,5,5,5,5,5,4,4,4,4,4,4,4,4,4,4,4,4,4,4,3,3,3,3,3,3,3,3,3,3,3,3,3,3,3,3,3,3,3,3,3,3,3,2,2,2,2,2,2,2,2,2,2,2,2,2,2,2,2,2,2,2,2,2,2,2,2,2,2,2,2,2,1,1,1,1,1,1,1,1,1,1,1,1,1,1,1,1,1,1,1,1,1,1,1,1,1,1,1,1,1,1,1,1],\"yaxis\":\"y\",\"type\":\"bar\"}],                        {\"template\":{\"data\":{\"bar\":[{\"error_x\":{\"color\":\"#2a3f5f\"},\"error_y\":{\"color\":\"#2a3f5f\"},\"marker\":{\"line\":{\"color\":\"#E5ECF6\",\"width\":0.5},\"pattern\":{\"fillmode\":\"overlay\",\"size\":10,\"solidity\":0.2}},\"type\":\"bar\"}],\"barpolar\":[{\"marker\":{\"line\":{\"color\":\"#E5ECF6\",\"width\":0.5},\"pattern\":{\"fillmode\":\"overlay\",\"size\":10,\"solidity\":0.2}},\"type\":\"barpolar\"}],\"carpet\":[{\"aaxis\":{\"endlinecolor\":\"#2a3f5f\",\"gridcolor\":\"white\",\"linecolor\":\"white\",\"minorgridcolor\":\"white\",\"startlinecolor\":\"#2a3f5f\"},\"baxis\":{\"endlinecolor\":\"#2a3f5f\",\"gridcolor\":\"white\",\"linecolor\":\"white\",\"minorgridcolor\":\"white\",\"startlinecolor\":\"#2a3f5f\"},\"type\":\"carpet\"}],\"choropleth\":[{\"colorbar\":{\"outlinewidth\":0,\"ticks\":\"\"},\"type\":\"choropleth\"}],\"contour\":[{\"colorbar\":{\"outlinewidth\":0,\"ticks\":\"\"},\"colorscale\":[[0.0,\"#0d0887\"],[0.1111111111111111,\"#46039f\"],[0.2222222222222222,\"#7201a8\"],[0.3333333333333333,\"#9c179e\"],[0.4444444444444444,\"#bd3786\"],[0.5555555555555556,\"#d8576b\"],[0.6666666666666666,\"#ed7953\"],[0.7777777777777778,\"#fb9f3a\"],[0.8888888888888888,\"#fdca26\"],[1.0,\"#f0f921\"]],\"type\":\"contour\"}],\"contourcarpet\":[{\"colorbar\":{\"outlinewidth\":0,\"ticks\":\"\"},\"type\":\"contourcarpet\"}],\"heatmap\":[{\"colorbar\":{\"outlinewidth\":0,\"ticks\":\"\"},\"colorscale\":[[0.0,\"#0d0887\"],[0.1111111111111111,\"#46039f\"],[0.2222222222222222,\"#7201a8\"],[0.3333333333333333,\"#9c179e\"],[0.4444444444444444,\"#bd3786\"],[0.5555555555555556,\"#d8576b\"],[0.6666666666666666,\"#ed7953\"],[0.7777777777777778,\"#fb9f3a\"],[0.8888888888888888,\"#fdca26\"],[1.0,\"#f0f921\"]],\"type\":\"heatmap\"}],\"heatmapgl\":[{\"colorbar\":{\"outlinewidth\":0,\"ticks\":\"\"},\"colorscale\":[[0.0,\"#0d0887\"],[0.1111111111111111,\"#46039f\"],[0.2222222222222222,\"#7201a8\"],[0.3333333333333333,\"#9c179e\"],[0.4444444444444444,\"#bd3786\"],[0.5555555555555556,\"#d8576b\"],[0.6666666666666666,\"#ed7953\"],[0.7777777777777778,\"#fb9f3a\"],[0.8888888888888888,\"#fdca26\"],[1.0,\"#f0f921\"]],\"type\":\"heatmapgl\"}],\"histogram\":[{\"marker\":{\"pattern\":{\"fillmode\":\"overlay\",\"size\":10,\"solidity\":0.2}},\"type\":\"histogram\"}],\"histogram2d\":[{\"colorbar\":{\"outlinewidth\":0,\"ticks\":\"\"},\"colorscale\":[[0.0,\"#0d0887\"],[0.1111111111111111,\"#46039f\"],[0.2222222222222222,\"#7201a8\"],[0.3333333333333333,\"#9c179e\"],[0.4444444444444444,\"#bd3786\"],[0.5555555555555556,\"#d8576b\"],[0.6666666666666666,\"#ed7953\"],[0.7777777777777778,\"#fb9f3a\"],[0.8888888888888888,\"#fdca26\"],[1.0,\"#f0f921\"]],\"type\":\"histogram2d\"}],\"histogram2dcontour\":[{\"colorbar\":{\"outlinewidth\":0,\"ticks\":\"\"},\"colorscale\":[[0.0,\"#0d0887\"],[0.1111111111111111,\"#46039f\"],[0.2222222222222222,\"#7201a8\"],[0.3333333333333333,\"#9c179e\"],[0.4444444444444444,\"#bd3786\"],[0.5555555555555556,\"#d8576b\"],[0.6666666666666666,\"#ed7953\"],[0.7777777777777778,\"#fb9f3a\"],[0.8888888888888888,\"#fdca26\"],[1.0,\"#f0f921\"]],\"type\":\"histogram2dcontour\"}],\"mesh3d\":[{\"colorbar\":{\"outlinewidth\":0,\"ticks\":\"\"},\"type\":\"mesh3d\"}],\"parcoords\":[{\"line\":{\"colorbar\":{\"outlinewidth\":0,\"ticks\":\"\"}},\"type\":\"parcoords\"}],\"pie\":[{\"automargin\":true,\"type\":\"pie\"}],\"scatter\":[{\"marker\":{\"colorbar\":{\"outlinewidth\":0,\"ticks\":\"\"}},\"type\":\"scatter\"}],\"scatter3d\":[{\"line\":{\"colorbar\":{\"outlinewidth\":0,\"ticks\":\"\"}},\"marker\":{\"colorbar\":{\"outlinewidth\":0,\"ticks\":\"\"}},\"type\":\"scatter3d\"}],\"scattercarpet\":[{\"marker\":{\"colorbar\":{\"outlinewidth\":0,\"ticks\":\"\"}},\"type\":\"scattercarpet\"}],\"scattergeo\":[{\"marker\":{\"colorbar\":{\"outlinewidth\":0,\"ticks\":\"\"}},\"type\":\"scattergeo\"}],\"scattergl\":[{\"marker\":{\"colorbar\":{\"outlinewidth\":0,\"ticks\":\"\"}},\"type\":\"scattergl\"}],\"scattermapbox\":[{\"marker\":{\"colorbar\":{\"outlinewidth\":0,\"ticks\":\"\"}},\"type\":\"scattermapbox\"}],\"scatterpolar\":[{\"marker\":{\"colorbar\":{\"outlinewidth\":0,\"ticks\":\"\"}},\"type\":\"scatterpolar\"}],\"scatterpolargl\":[{\"marker\":{\"colorbar\":{\"outlinewidth\":0,\"ticks\":\"\"}},\"type\":\"scatterpolargl\"}],\"scatterternary\":[{\"marker\":{\"colorbar\":{\"outlinewidth\":0,\"ticks\":\"\"}},\"type\":\"scatterternary\"}],\"surface\":[{\"colorbar\":{\"outlinewidth\":0,\"ticks\":\"\"},\"colorscale\":[[0.0,\"#0d0887\"],[0.1111111111111111,\"#46039f\"],[0.2222222222222222,\"#7201a8\"],[0.3333333333333333,\"#9c179e\"],[0.4444444444444444,\"#bd3786\"],[0.5555555555555556,\"#d8576b\"],[0.6666666666666666,\"#ed7953\"],[0.7777777777777778,\"#fb9f3a\"],[0.8888888888888888,\"#fdca26\"],[1.0,\"#f0f921\"]],\"type\":\"surface\"}],\"table\":[{\"cells\":{\"fill\":{\"color\":\"#EBF0F8\"},\"line\":{\"color\":\"white\"}},\"header\":{\"fill\":{\"color\":\"#C8D4E3\"},\"line\":{\"color\":\"white\"}},\"type\":\"table\"}]},\"layout\":{\"annotationdefaults\":{\"arrowcolor\":\"#2a3f5f\",\"arrowhead\":0,\"arrowwidth\":1},\"autotypenumbers\":\"strict\",\"coloraxis\":{\"colorbar\":{\"outlinewidth\":0,\"ticks\":\"\"}},\"colorscale\":{\"diverging\":[[0,\"#8e0152\"],[0.1,\"#c51b7d\"],[0.2,\"#de77ae\"],[0.3,\"#f1b6da\"],[0.4,\"#fde0ef\"],[0.5,\"#f7f7f7\"],[0.6,\"#e6f5d0\"],[0.7,\"#b8e186\"],[0.8,\"#7fbc41\"],[0.9,\"#4d9221\"],[1,\"#276419\"]],\"sequential\":[[0.0,\"#0d0887\"],[0.1111111111111111,\"#46039f\"],[0.2222222222222222,\"#7201a8\"],[0.3333333333333333,\"#9c179e\"],[0.4444444444444444,\"#bd3786\"],[0.5555555555555556,\"#d8576b\"],[0.6666666666666666,\"#ed7953\"],[0.7777777777777778,\"#fb9f3a\"],[0.8888888888888888,\"#fdca26\"],[1.0,\"#f0f921\"]],\"sequentialminus\":[[0.0,\"#0d0887\"],[0.1111111111111111,\"#46039f\"],[0.2222222222222222,\"#7201a8\"],[0.3333333333333333,\"#9c179e\"],[0.4444444444444444,\"#bd3786\"],[0.5555555555555556,\"#d8576b\"],[0.6666666666666666,\"#ed7953\"],[0.7777777777777778,\"#fb9f3a\"],[0.8888888888888888,\"#fdca26\"],[1.0,\"#f0f921\"]]},\"colorway\":[\"#636efa\",\"#EF553B\",\"#00cc96\",\"#ab63fa\",\"#FFA15A\",\"#19d3f3\",\"#FF6692\",\"#B6E880\",\"#FF97FF\",\"#FECB52\"],\"font\":{\"color\":\"#2a3f5f\"},\"geo\":{\"bgcolor\":\"white\",\"lakecolor\":\"white\",\"landcolor\":\"#E5ECF6\",\"showlakes\":true,\"showland\":true,\"subunitcolor\":\"white\"},\"hoverlabel\":{\"align\":\"left\"},\"hovermode\":\"closest\",\"mapbox\":{\"style\":\"light\"},\"paper_bgcolor\":\"white\",\"plot_bgcolor\":\"#E5ECF6\",\"polar\":{\"angularaxis\":{\"gridcolor\":\"white\",\"linecolor\":\"white\",\"ticks\":\"\"},\"bgcolor\":\"#E5ECF6\",\"radialaxis\":{\"gridcolor\":\"white\",\"linecolor\":\"white\",\"ticks\":\"\"}},\"scene\":{\"xaxis\":{\"backgroundcolor\":\"#E5ECF6\",\"gridcolor\":\"white\",\"gridwidth\":2,\"linecolor\":\"white\",\"showbackground\":true,\"ticks\":\"\",\"zerolinecolor\":\"white\"},\"yaxis\":{\"backgroundcolor\":\"#E5ECF6\",\"gridcolor\":\"white\",\"gridwidth\":2,\"linecolor\":\"white\",\"showbackground\":true,\"ticks\":\"\",\"zerolinecolor\":\"white\"},\"zaxis\":{\"backgroundcolor\":\"#E5ECF6\",\"gridcolor\":\"white\",\"gridwidth\":2,\"linecolor\":\"white\",\"showbackground\":true,\"ticks\":\"\",\"zerolinecolor\":\"white\"}},\"shapedefaults\":{\"line\":{\"color\":\"#2a3f5f\"}},\"ternary\":{\"aaxis\":{\"gridcolor\":\"white\",\"linecolor\":\"white\",\"ticks\":\"\"},\"baxis\":{\"gridcolor\":\"white\",\"linecolor\":\"white\",\"ticks\":\"\"},\"bgcolor\":\"#E5ECF6\",\"caxis\":{\"gridcolor\":\"white\",\"linecolor\":\"white\",\"ticks\":\"\"}},\"title\":{\"x\":0.05},\"xaxis\":{\"automargin\":true,\"gridcolor\":\"white\",\"linecolor\":\"white\",\"ticks\":\"\",\"title\":{\"standoff\":15},\"zerolinecolor\":\"white\",\"zerolinewidth\":2},\"yaxis\":{\"automargin\":true,\"gridcolor\":\"white\",\"linecolor\":\"white\",\"ticks\":\"\",\"title\":{\"standoff\":15},\"zerolinecolor\":\"white\",\"zerolinewidth\":2}}},\"xaxis\":{\"anchor\":\"y\",\"domain\":[0.0,1.0],\"title\":{\"text\":\"Name\"}},\"yaxis\":{\"anchor\":\"x\",\"domain\":[0.0,1.0],\"title\":{\"text\":\"Number of Cars\"}},\"legend\":{\"tracegroupgap\":0},\"margin\":{\"t\":60},\"barmode\":\"relative\"},                        {\"responsive\": true}                    ).then(function(){\n",
       "                            \n",
       "var gd = document.getElementById('2705ee54-d898-4663-af86-8ad5523625b5');\n",
       "var x = new MutationObserver(function (mutations, observer) {{\n",
       "        var display = window.getComputedStyle(gd).display;\n",
       "        if (!display || display === 'none') {{\n",
       "            console.log([gd, 'removed!']);\n",
       "            Plotly.purge(gd);\n",
       "            observer.disconnect();\n",
       "        }}\n",
       "}});\n",
       "\n",
       "// Listen for the removal of the full notebook cells\n",
       "var notebookContainer = gd.closest('#notebook-container');\n",
       "if (notebookContainer) {{\n",
       "    x.observe(notebookContainer, {childList: true});\n",
       "}}\n",
       "\n",
       "// Listen for the clearing of the current output cell\n",
       "var outputEl = gd.closest('.output');\n",
       "if (outputEl) {{\n",
       "    x.observe(outputEl, {childList: true});\n",
       "}}\n",
       "\n",
       "                        })                };                });            </script>        </div>"
      ]
     },
     "metadata": {},
     "output_type": "display_data"
    }
   ],
   "source": [
    "Car_make = data['Name'].value_counts() #Looking at the most popular brand in chart form\n",
    "fig = px.bar(x=Car_make.index, y=Car_make.values, labels={'x':'Name', 'y':'Number of Cars'})\n",
    "fig.show()"
   ]
  },
  {
   "cell_type": "code",
   "execution_count": 15,
   "id": "a468f4d5",
   "metadata": {
    "ExecuteTime": {
     "end_time": "2023-01-23T00:54:41.664257Z",
     "start_time": "2023-01-23T00:54:41.216108Z"
    }
   },
   "outputs": [
    {
     "data": {
      "image/png": "[encoded data removed]",
      "text/plain": [
       "<Figure size 1080x432 with 3 Axes>"
      ]
     },
     "metadata": {},
     "output_type": "display_data"
    }
   ],
   "source": [
    "#checking the corelation between three independant variables\n",
    "\n",
    "fig, (ax1, ax2,ax3) = plt.subplots(nrows = 1, ncols = 3, tight_layout = True, figsize = (15,6))\n",
    "ax1.set_title('Year v Price', fontsize = 18)\n",
    "sns.scatterplot(y = data.Price, x = data.Year, alpha = 0.6, color = 'tab:purple', ax = ax1)\n",
    "ax2.set_title('Year v Miles', fontsize = 18)\n",
    "sns.scatterplot(y = data.Year, x = data.Miles, alpha = 0.6, color = 'tab:brown', ax = ax2)\n",
    "ax3.set_title('Price v Miles', fontsize = 18)\n",
    "sns.scatterplot(y = data.Price, x = data.Miles, alpha = 0.6, color = 'tab:cyan', ax = ax3)\n",
    "plt.show()\n",
    "\n"
   ]
  },
  {
   "cell_type": "code",
   "execution_count": 16,
   "id": "3c9fdfc5",
   "metadata": {
    "ExecuteTime": {
     "end_time": "2023-01-23T00:54:41.679776Z",
     "start_time": "2023-01-23T00:54:41.665257Z"
    }
   },
   "outputs": [
    {
     "name": "stdout",
     "output_type": "stream",
     "text": [
      "Price    749\n",
      "Miles      0\n",
      "Year       0\n",
      "dtype: int64\n"
     ]
    }
   ],
   "source": [
    "df = data[['Price','Miles','Year']]\n",
    "q3, q1 = df.quantile(0.75), df.quantile(0.25), \n",
    "iqr = q3-q1\n",
    "maxm, minm = q3 + 1.5*iqr, q1 - 1.5*iqr \n",
    "\n",
    "print(((df < minm) | (df > (maxm))).sum())"
   ]
  },
  {
   "cell_type": "code",
   "execution_count": 17,
   "id": "b4360f42",
   "metadata": {
    "ExecuteTime": {
     "end_time": "2023-01-23T00:54:42.655164Z",
     "start_time": "2023-01-23T00:54:41.680777Z"
    }
   },
   "outputs": [
    {
     "name": "stderr",
     "output_type": "stream",
     "text": [
      "C:\\Users\\meugene\\AppData\\Local\\Temp\\ipykernel_380\\3791747650.py:1: FutureWarning:\n",
      "\n",
      "Automatic reindexing on DataFrame vs Series comparisons is deprecated and will raise ValueError in a future version. Do `left, right = left.align(right, axis=1, copy=False)` before e.g. `left == right`\n",
      "\n"
     ]
    }
   ],
   "source": [
    "data_new = data[~((data < minm) | (data> maxm)).any(axis=1)]\n"
   ]
  },
  {
   "cell_type": "code",
   "execution_count": 18,
   "id": "15a3b7fb",
   "metadata": {
    "ExecuteTime": {
     "end_time": "2023-01-23T00:54:42.670330Z",
     "start_time": "2023-01-23T00:54:42.656163Z"
    }
   },
   "outputs": [
    {
     "name": "stdout",
     "output_type": "stream",
     "text": [
      "Price    0\n",
      "Miles    0\n",
      "Year     0\n",
      "dtype: int64\n"
     ]
    }
   ],
   "source": [
    "df = data_new[['Price','Miles','Year']]\n",
    "print(((df < minm) | (df > (maxm))).sum())"
   ]
  },
  {
   "cell_type": "code",
   "execution_count": 19,
   "id": "cf07d2b3",
   "metadata": {
    "ExecuteTime": {
     "end_time": "2023-01-23T00:54:42.692084Z",
     "start_time": "2023-01-23T00:54:42.672331Z"
    }
   },
   "outputs": [
    {
     "data": {
      "text/html": [
       "<div>\n",
       "<style scoped>\n",
       "    .dataframe tbody tr th:only-of-type {\n",
       "        vertical-align: middle;\n",
       "    }\n",
       "\n",
       "    .dataframe tbody tr th {\n",
       "        vertical-align: top;\n",
       "    }\n",
       "\n",
       "    .dataframe thead th {\n",
       "        text-align: right;\n",
       "    }\n",
       "</style>\n",
       "<table border=\"1\" class=\"dataframe\">\n",
       "  <thead>\n",
       "    <tr style=\"text-align: right;\">\n",
       "      <th></th>\n",
       "      <th>Name</th>\n",
       "      <th>Year</th>\n",
       "      <th>Miles</th>\n",
       "      <th>Price</th>\n",
       "    </tr>\n",
       "  </thead>\n",
       "  <tbody>\n",
       "    <tr>\n",
       "      <th>0</th>\n",
       "      <td>Chevrolet Trax</td>\n",
       "      <td>2018</td>\n",
       "      <td>41946</td>\n",
       "      <td>16990</td>\n",
       "    </tr>\n",
       "    <tr>\n",
       "      <th>1</th>\n",
       "      <td>GMC Terrain</td>\n",
       "      <td>2020</td>\n",
       "      <td>45328</td>\n",
       "      <td>23990</td>\n",
       "    </tr>\n",
       "    <tr>\n",
       "      <th>2</th>\n",
       "      <td>Jeep Wrangler</td>\n",
       "      <td>2012</td>\n",
       "      <td>81068</td>\n",
       "      <td>21590</td>\n",
       "    </tr>\n",
       "    <tr>\n",
       "      <th>3</th>\n",
       "      <td>Jeep Renegade</td>\n",
       "      <td>2019</td>\n",
       "      <td>35372</td>\n",
       "      <td>21590</td>\n",
       "    </tr>\n",
       "    <tr>\n",
       "      <th>5</th>\n",
       "      <td>Buick Encore</td>\n",
       "      <td>2019</td>\n",
       "      <td>47973</td>\n",
       "      <td>18590</td>\n",
       "    </tr>\n",
       "  </tbody>\n",
       "</table>\n",
       "</div>"
      ],
      "text/plain": [
       "              Name  Year  Miles  Price\n",
       "0   Chevrolet Trax  2018  41946  16990\n",
       "1      GMC Terrain  2020  45328  23990\n",
       "2    Jeep Wrangler  2012  81068  21590\n",
       "3    Jeep Renegade  2019  35372  21590\n",
       "5     Buick Encore  2019  47973  18590"
      ]
     },
     "execution_count": 19,
     "metadata": {},
     "output_type": "execute_result"
    }
   ],
   "source": [
    "df = data_new\n",
    "data_new.head()"
   ]
  },
  {
   "cell_type": "code",
   "execution_count": 20,
   "id": "09f2ecfb",
   "metadata": {
    "ExecuteTime": {
     "end_time": "2023-01-23T00:54:42.819289Z",
     "start_time": "2023-01-23T00:54:42.693084Z"
    }
   },
   "outputs": [
    {
     "data": {
      "image/png": "[encoded data removed]",
      "text/plain": [
       "<Figure size 1008x720 with 2 Axes>"
      ]
     },
     "metadata": {},
     "output_type": "display_data"
    }
   ],
   "source": [
    "plt.figure(figsize=(14,10)) # A heat map to show the correlation between the columns\n",
    "sns.heatmap(data.corr(), annot=True)\n",
    "plt.title('Correlation between the columns')\n",
    "plt.show()"
   ]
  },
  {
   "cell_type": "code",
   "execution_count": 21,
   "id": "663bac86",
   "metadata": {
    "ExecuteTime": {
     "end_time": "2023-01-23T00:54:43.523976Z",
     "start_time": "2023-01-23T00:54:42.820289Z"
    }
   },
   "outputs": [
    {
     "data": {
      "image/png": "[encoded data removed]",
      "text/plain": [
       "<Figure size 504x360 with 1 Axes>"
      ]
     },
     "metadata": {},
     "output_type": "display_data"
    }
   ],
   "source": [
    "fig=plt.figure(figsize=(7,5))\n",
    "plt.title('Correlation between yearOfRegistration and price')\n",
    "sns.regplot(x='Miles', y='Price', data=data)\n",
    "plt.show()"
   ]
  },
  {
   "cell_type": "code",
   "execution_count": 22,
   "id": "b2fdc480",
   "metadata": {
    "ExecuteTime": {
     "end_time": "2023-01-23T00:54:44.238234Z",
     "start_time": "2023-01-23T00:54:43.524977Z"
    }
   },
   "outputs": [
    {
     "data": {
      "image/png": "[encoded data removed]",
      "text/plain": [
       "<Figure size 504x360 with 1 Axes>"
      ]
     },
     "metadata": {},
     "output_type": "display_data"
    }
   ],
   "source": [
    "fig=plt.figure(figsize=(7,5)) #\n",
    "plt.title('Correlation between powerPS and price')\n",
    "sns.regplot(x='Year', y='Miles', data=data)\n",
    "plt.show()"
   ]
  },
  {
   "cell_type": "code",
   "execution_count": 23,
   "id": "4dea0049",
   "metadata": {
    "ExecuteTime": {
     "end_time": "2023-01-23T00:54:44.970658Z",
     "start_time": "2023-01-23T00:54:44.239234Z"
    }
   },
   "outputs": [
    {
     "data": {
      "image/png": "[encoded data removed]",
      "text/plain": [
       "<Figure size 504x360 with 1 Axes>"
      ]
     },
     "metadata": {},
     "output_type": "display_data"
    }
   ],
   "source": [
    "fig=plt.figure(figsize=(7,5))\n",
    "plt.title('Correlation between kilometer and price')\n",
    "sns.regplot(x='Year', y='Price', data=data)\n",
    "plt.show()"
   ]
  },
  {
   "cell_type": "code",
   "execution_count": 24,
   "id": "2d3853ce",
   "metadata": {
    "ExecuteTime": {
     "end_time": "2023-01-23T00:54:44.986661Z",
     "start_time": "2023-01-23T00:54:44.972659Z"
    }
   },
   "outputs": [
    {
     "data": {
      "text/html": [
       "<div>\n",
       "<style scoped>\n",
       "    .dataframe tbody tr th:only-of-type {\n",
       "        vertical-align: middle;\n",
       "    }\n",
       "\n",
       "    .dataframe tbody tr th {\n",
       "        vertical-align: top;\n",
       "    }\n",
       "\n",
       "    .dataframe thead th {\n",
       "        text-align: right;\n",
       "    }\n",
       "</style>\n",
       "<table border=\"1\" class=\"dataframe\">\n",
       "  <thead>\n",
       "    <tr style=\"text-align: right;\">\n",
       "      <th></th>\n",
       "      <th>Name</th>\n",
       "      <th>Year</th>\n",
       "      <th>Miles</th>\n",
       "      <th>Price</th>\n",
       "    </tr>\n",
       "  </thead>\n",
       "  <tbody>\n",
       "    <tr>\n",
       "      <th>0</th>\n",
       "      <td>Chevrolet Trax</td>\n",
       "      <td>2018</td>\n",
       "      <td>41946</td>\n",
       "      <td>16990</td>\n",
       "    </tr>\n",
       "    <tr>\n",
       "      <th>1</th>\n",
       "      <td>GMC Terrain</td>\n",
       "      <td>2020</td>\n",
       "      <td>45328</td>\n",
       "      <td>23990</td>\n",
       "    </tr>\n",
       "    <tr>\n",
       "      <th>2</th>\n",
       "      <td>Jeep Wrangler</td>\n",
       "      <td>2012</td>\n",
       "      <td>81068</td>\n",
       "      <td>21590</td>\n",
       "    </tr>\n",
       "    <tr>\n",
       "      <th>3</th>\n",
       "      <td>Jeep Renegade</td>\n",
       "      <td>2019</td>\n",
       "      <td>35372</td>\n",
       "      <td>21590</td>\n",
       "    </tr>\n",
       "    <tr>\n",
       "      <th>5</th>\n",
       "      <td>Buick Encore</td>\n",
       "      <td>2019</td>\n",
       "      <td>47973</td>\n",
       "      <td>18590</td>\n",
       "    </tr>\n",
       "  </tbody>\n",
       "</table>\n",
       "</div>"
      ],
      "text/plain": [
       "              Name  Year  Miles  Price\n",
       "0   Chevrolet Trax  2018  41946  16990\n",
       "1      GMC Terrain  2020  45328  23990\n",
       "2    Jeep Wrangler  2012  81068  21590\n",
       "3    Jeep Renegade  2019  35372  21590\n",
       "5     Buick Encore  2019  47973  18590"
      ]
     },
     "execution_count": 24,
     "metadata": {},
     "output_type": "execute_result"
    }
   ],
   "source": [
    "data.head()"
   ]
  },
  {
   "cell_type": "code",
   "execution_count": 25,
   "id": "638302b8",
   "metadata": {
    "ExecuteTime": {
     "end_time": "2023-01-23T00:54:45.041999Z",
     "start_time": "2023-01-23T00:54:44.987696Z"
    }
   },
   "outputs": [],
   "source": [
    "# data[\"model\"] = data[\"model\"].astype('category')\n",
    "# data.dtypes\n",
    "# data[\"model\"] = data[\"model\"].cat.codes\n",
    "\n",
    "# data[\"model\"] = data[\"model\"].astype('category')\n",
    "# data.dtypes\n",
    "# data[\"model\"] = data[\"model\"].cat.codes\n",
    "\n",
    "\n"
   ]
  },
  {
   "cell_type": "code",
   "execution_count": 26,
   "id": "f3eb03ef",
   "metadata": {
    "ExecuteTime": {
     "end_time": "2023-01-23T00:54:45.057240Z",
     "start_time": "2023-01-23T00:54:45.043000Z"
    }
   },
   "outputs": [],
   "source": [
    "#data_new = data.replace({'brand':{'bmw':0, 'volkswagen':1, 'mercedes_benz':2, 'ford':3, 'audi':4, 'jeep':5, 'other':6}}, inplace=True)\n",
    "\n",
    "# data_new = pd.get_dummies(data, columns=['Name'], drop_first=True)\n"
   ]
  },
  {
   "cell_type": "code",
   "execution_count": 27,
   "id": "82de2766",
   "metadata": {
    "ExecuteTime": {
     "end_time": "2023-01-23T00:54:45.072756Z",
     "start_time": "2023-01-23T00:54:45.057240Z"
    }
   },
   "outputs": [],
   "source": [
    "# data_new = data_new.drop(['model','vehicleType','brand_trabant','brand_suzuki','fuelType_cng', 'fuelType_diesel', 'fuelType_elektro','fuelType_hybrid', 'fuelType_lpg','brand_chevrolet', 'brand_chrysler', 'brand_citroen',\n",
    "#        'brand_dacia', 'brand_daewoo', 'brand_daihatsu', 'brand_fiat', 'brand_hyundai', 'brand_jaguar', 'brand_lada', 'brand_lancia','brand_mini', 'brand_mitsubishi',\n",
    "#        'brand_peugeot', 'brand_renault', 'brand_saab', 'brand_seat', 'brand_skoda', 'brand_smart', 'brand_suzuki'], axis=1)"
   ]
  },
  {
   "cell_type": "code",
   "execution_count": 28,
   "id": "f887dfa3",
   "metadata": {
    "ExecuteTime": {
     "end_time": "2023-01-23T00:54:45.090439Z",
     "start_time": "2023-01-23T00:54:45.073756Z"
    }
   },
   "outputs": [],
   "source": [
    "# data.replace({'seller':{'privat':0, 'Automatic':1, 'Semi-Auto':2}}, inplace=True)\n",
    "# data.replace({'fuelType':{'Petrol':0, 'Diesel':1, 'Hybrid':2, 'Electric':3, 'Other':4}}, inplace=True)"
   ]
  },
  {
   "cell_type": "code",
   "execution_count": 29,
   "id": "c9d634e5",
   "metadata": {
    "ExecuteTime": {
     "end_time": "2023-01-23T00:54:45.105953Z",
     "start_time": "2023-01-23T00:54:45.090973Z"
    }
   },
   "outputs": [],
   "source": [
    "data_new = data.drop(['Name'], axis=1)"
   ]
  },
  {
   "cell_type": "code",
   "execution_count": 30,
   "id": "4f6869d1",
   "metadata": {
    "ExecuteTime": {
     "end_time": "2023-01-23T00:54:45.121957Z",
     "start_time": "2023-01-23T00:54:45.106954Z"
    }
   },
   "outputs": [
    {
     "data": {
      "text/html": [
       "<div>\n",
       "<style scoped>\n",
       "    .dataframe tbody tr th:only-of-type {\n",
       "        vertical-align: middle;\n",
       "    }\n",
       "\n",
       "    .dataframe tbody tr th {\n",
       "        vertical-align: top;\n",
       "    }\n",
       "\n",
       "    .dataframe thead th {\n",
       "        text-align: right;\n",
       "    }\n",
       "</style>\n",
       "<table border=\"1\" class=\"dataframe\">\n",
       "  <thead>\n",
       "    <tr style=\"text-align: right;\">\n",
       "      <th></th>\n",
       "      <th>Year</th>\n",
       "      <th>Miles</th>\n",
       "      <th>Price</th>\n",
       "    </tr>\n",
       "  </thead>\n",
       "  <tbody>\n",
       "    <tr>\n",
       "      <th>0</th>\n",
       "      <td>2018</td>\n",
       "      <td>41946</td>\n",
       "      <td>16990</td>\n",
       "    </tr>\n",
       "    <tr>\n",
       "      <th>1</th>\n",
       "      <td>2020</td>\n",
       "      <td>45328</td>\n",
       "      <td>23990</td>\n",
       "    </tr>\n",
       "    <tr>\n",
       "      <th>2</th>\n",
       "      <td>2012</td>\n",
       "      <td>81068</td>\n",
       "      <td>21590</td>\n",
       "    </tr>\n",
       "    <tr>\n",
       "      <th>3</th>\n",
       "      <td>2019</td>\n",
       "      <td>35372</td>\n",
       "      <td>21590</td>\n",
       "    </tr>\n",
       "    <tr>\n",
       "      <th>5</th>\n",
       "      <td>2019</td>\n",
       "      <td>47973</td>\n",
       "      <td>18590</td>\n",
       "    </tr>\n",
       "  </tbody>\n",
       "</table>\n",
       "</div>"
      ],
      "text/plain": [
       "   Year  Miles  Price\n",
       "0  2018  41946  16990\n",
       "1  2020  45328  23990\n",
       "2  2012  81068  21590\n",
       "3  2019  35372  21590\n",
       "5  2019  47973  18590"
      ]
     },
     "execution_count": 30,
     "metadata": {},
     "output_type": "execute_result"
    }
   ],
   "source": [
    "data_new.head()"
   ]
  },
  {
   "cell_type": "code",
   "execution_count": 31,
   "id": "6ad095b9",
   "metadata": {
    "ExecuteTime": {
     "end_time": "2023-01-23T00:54:45.137121Z",
     "start_time": "2023-01-23T00:54:45.122957Z"
    }
   },
   "outputs": [
    {
     "data": {
      "text/plain": [
       "(19147, 3)"
      ]
     },
     "execution_count": 31,
     "metadata": {},
     "output_type": "execute_result"
    }
   ],
   "source": [
    " data_new.shape"
   ]
  },
  {
   "cell_type": "code",
   "execution_count": 32,
   "id": "f7031903",
   "metadata": {
    "ExecuteTime": {
     "end_time": "2023-01-23T00:54:45.144843Z",
     "start_time": "2023-01-23T00:54:45.139121Z"
    }
   },
   "outputs": [],
   "source": [
    "# X = data_new.drop(['powerPS','price'], axis=1) #we are going to drop the column we need to drop \n",
    "# y = data_new['price']\n",
    "\n",
    "# print(\"Shape of X is: \",X.shape)\n",
    "# print(\"Shape of y is: \", y.shape)"
   ]
  },
  {
   "cell_type": "code",
   "execution_count": 33,
   "id": "7ccf3431",
   "metadata": {
    "ExecuteTime": {
     "end_time": "2023-01-23T00:54:45.158767Z",
     "start_time": "2023-01-23T00:54:45.144843Z"
    }
   },
   "outputs": [],
   "source": [
    "# X_train, X_test, y_train, y_test = train_test_split(X,y, test_size=0.3, random_state=42)\n",
    "\n",
    "# print(\"X_test shape:\", X_test.shape)\n",
    "# print(\"X_train shape:\", X_train.shape)\n",
    "# print(\"y_test shape: \", y_test.shape)\n",
    "# print(\"y_train shape:\", y_train.shape)"
   ]
  },
  {
   "cell_type": "code",
   "execution_count": 34,
   "id": "729322d0",
   "metadata": {
    "ExecuteTime": {
     "end_time": "2023-01-23T00:54:45.173955Z",
     "start_time": "2023-01-23T00:54:45.158767Z"
    }
   },
   "outputs": [],
   "source": [
    "# scaler = StandardScaler()"
   ]
  },
  {
   "cell_type": "code",
   "execution_count": 35,
   "id": "3061fbf3",
   "metadata": {
    "ExecuteTime": {
     "end_time": "2023-01-23T00:54:45.190526Z",
     "start_time": "2023-01-23T00:54:45.175345Z"
    }
   },
   "outputs": [],
   "source": [
    "# X_train = scaler.fit_transform(X_train)\n",
    "# X_test = scaler.transform(X_test)"
   ]
  },
  {
   "cell_type": "code",
   "execution_count": 36,
   "id": "fb54b4d6",
   "metadata": {
    "ExecuteTime": {
     "end_time": "2023-01-23T00:54:45.194842Z",
     "start_time": "2023-01-23T00:54:45.191527Z"
    }
   },
   "outputs": [],
   "source": [
    "# model = LinearRegression()"
   ]
  },
  {
   "cell_type": "code",
   "execution_count": 37,
   "id": "fe753516",
   "metadata": {
    "ExecuteTime": {
     "end_time": "2023-01-23T00:54:45.208492Z",
     "start_time": "2023-01-23T00:54:45.194842Z"
    }
   },
   "outputs": [],
   "source": [
    "# model.fit(X_train, y_train)"
   ]
  },
  {
   "cell_type": "code",
   "execution_count": 38,
   "id": "08af25d1",
   "metadata": {
    "ExecuteTime": {
     "end_time": "2023-01-23T00:54:45.224000Z",
     "start_time": "2023-01-23T00:54:45.208492Z"
    }
   },
   "outputs": [],
   "source": [
    "# pred = model.predict(X_test)"
   ]
  },
  {
   "cell_type": "code",
   "execution_count": 39,
   "id": "6660fdf9",
   "metadata": {
    "ExecuteTime": {
     "end_time": "2023-01-23T00:54:45.239577Z",
     "start_time": "2023-01-23T00:54:45.224969Z"
    }
   },
   "outputs": [],
   "source": [
    "\n",
    "# from sklearn.metrics import mean_absolute_error, mean_squared_error, r2_score"
   ]
  },
  {
   "cell_type": "code",
   "execution_count": 40,
   "id": "2b78a17f",
   "metadata": {
    "ExecuteTime": {
     "end_time": "2023-01-23T00:54:45.244573Z",
     "start_time": "2023-01-23T00:54:45.240578Z"
    }
   },
   "outputs": [],
   "source": [
    "# print(\"MAE: \", (metrics.mean_absolute_error(pred, y_test)))\n",
    "# print(\"MSE: \", (metrics.mean_squared_error(pred, y_test)))\n",
    "# print(\"R2 score: \", (metrics.r2_score(pred, y_test)))"
   ]
  },
  {
   "cell_type": "code",
   "execution_count": 41,
   "id": "0e7a25c2",
   "metadata": {
    "ExecuteTime": {
     "end_time": "2023-01-23T00:54:45.258178Z",
     "start_time": "2023-01-23T00:54:45.244573Z"
    }
   },
   "outputs": [],
   "source": [
    "# sns.regplot(x=pred, y=y_test)\n",
    "# plt.xlabel(\"Predicted Price\")\n",
    "# plt.ylabel('Actual Price')\n",
    "# plt.title(\"ACtual vs predicted price\")\n",
    "# plt.show()"
   ]
  },
  {
   "cell_type": "code",
   "execution_count": 42,
   "id": "3ed795d1",
   "metadata": {
    "ExecuteTime": {
     "end_time": "2023-01-23T00:54:45.990816Z",
     "start_time": "2023-01-23T00:54:45.258178Z"
    }
   },
   "outputs": [
    {
     "data": {
      "text/plain": [
       "<AxesSubplot:title={'center':'Correlation between year and price'}, xlabel='Price', ylabel='Year'>"
      ]
     },
     "execution_count": 42,
     "metadata": {},
     "output_type": "execute_result"
    },
    {
     "data": {
      "image/png": "[encoded data removed]",
      "text/plain": [
       "<Figure size 504x360 with 1 Axes>"
      ]
     },
     "metadata": {},
     "output_type": "display_data"
    }
   ],
   "source": [
    "fig = plt.figure(figsize=(7,5))\n",
    "plt.title('Correlation between year and price')\n",
    "sns.regplot(x='Price', y='Year', data=data_new)"
   ]
  },
  {
   "cell_type": "code",
   "execution_count": 43,
   "id": "2e3e0db3",
   "metadata": {
    "ExecuteTime": {
     "end_time": "2023-01-23T00:54:46.006820Z",
     "start_time": "2023-01-23T00:54:45.991816Z"
    }
   },
   "outputs": [
    {
     "name": "stdout",
     "output_type": "stream",
     "text": [
      "Shape of X is:  (19147, 2)\n",
      "Shape of y is:  (19147,)\n"
     ]
    }
   ],
   "source": [
    "X = data_new.drop(['Price'], axis=1) #we are going to drop the column we need to drop \n",
    "y = data_new['Price']\n",
    "\n",
    "print(\"Shape of X is: \",X.shape)\n",
    "print(\"Shape of y is: \", y.shape)"
   ]
  },
  {
   "cell_type": "code",
   "execution_count": 44,
   "id": "a3789455",
   "metadata": {
    "ExecuteTime": {
     "end_time": "2023-01-23T00:54:46.022823Z",
     "start_time": "2023-01-23T00:54:46.007819Z"
    }
   },
   "outputs": [
    {
     "name": "stdout",
     "output_type": "stream",
     "text": [
      "X_test shape: (5745, 2)\n",
      "X_train shape: (13402, 2)\n",
      "y_test shape:  (5745,)\n",
      "y_train shape: (13402,)\n"
     ]
    }
   ],
   "source": [
    "X_train, X_test, y_train, y_test = train_test_split(X,y, test_size=0.3, random_state=42)\n",
    "\n",
    "print(\"X_test shape:\", X_test.shape)\n",
    "print(\"X_train shape:\", X_train.shape)\n",
    "print(\"y_test shape: \", y_test.shape)\n",
    "print(\"y_train shape:\", y_train.shape)"
   ]
  },
  {
   "cell_type": "code",
   "execution_count": 45,
   "id": "c1553637",
   "metadata": {
    "ExecuteTime": {
     "end_time": "2023-01-23T00:54:46.038396Z",
     "start_time": "2023-01-23T00:54:46.023823Z"
    }
   },
   "outputs": [],
   "source": [
    "scaler = StandardScaler()"
   ]
  },
  {
   "cell_type": "code",
   "execution_count": 46,
   "id": "115db0c3",
   "metadata": {
    "ExecuteTime": {
     "end_time": "2023-01-23T00:54:46.058807Z",
     "start_time": "2023-01-23T00:54:46.040904Z"
    }
   },
   "outputs": [],
   "source": [
    "X_train = scaler.fit_transform(X_train)\n",
    "X_test = scaler.transform(X_test)"
   ]
  },
  {
   "cell_type": "code",
   "execution_count": 47,
   "id": "e4ba37f8",
   "metadata": {
    "ExecuteTime": {
     "end_time": "2023-01-23T00:54:46.074771Z",
     "start_time": "2023-01-23T00:54:46.059324Z"
    }
   },
   "outputs": [],
   "source": [
    "linreg = LinearRegression()\n",
    "linreg.fit(X_train, y_train)\n",
    "linreg_pred = linreg.predict(X_test)"
   ]
  },
  {
   "cell_type": "code",
   "execution_count": 48,
   "id": "9d689f05",
   "metadata": {
    "ExecuteTime": {
     "end_time": "2023-01-23T00:54:46.090521Z",
     "start_time": "2023-01-23T00:54:46.075388Z"
    }
   },
   "outputs": [
    {
     "name": "stdout",
     "output_type": "stream",
     "text": [
      "MAE of linear regression model is: 3178.0362230699875\n",
      "R2 score of linear regression model is: 0.3176635304552208\n"
     ]
    }
   ],
   "source": [
    "linreg_mae = mean_absolute_error(y_test, linreg_pred)\n",
    "linreg_r2 = r2_score(y_test, linreg_pred)\n",
    "print(\"MAE of linear regression model is:\", linreg_mae)\n",
    "print(\"R2 score of linear regression model is:\", linreg_r2)"
   ]
  },
  {
   "cell_type": "code",
   "execution_count": 49,
   "id": "9ce35d34",
   "metadata": {
    "ExecuteTime": {
     "end_time": "2023-01-23T00:54:46.095786Z",
     "start_time": "2023-01-23T00:54:46.091521Z"
    }
   },
   "outputs": [],
   "source": [
    "from sklearn.model_selection import cross_val_score"
   ]
  },
  {
   "cell_type": "code",
   "execution_count": 50,
   "id": "08100663",
   "metadata": {
    "ExecuteTime": {
     "end_time": "2023-01-23T00:54:46.127031Z",
     "start_time": "2023-01-23T00:54:46.095786Z"
    }
   },
   "outputs": [
    {
     "name": "stdout",
     "output_type": "stream",
     "text": [
      "Linear Regression model accuracy is: 32.09584838659697\n"
     ]
    }
   ],
   "source": [
    "linreg_score = cross_val_score(linreg, X_test, y_test, cv=4)\n",
    "print(\"Linear Regression model accuracy is: {}\".format(linreg_score.mean()*100))"
   ]
  },
  {
   "cell_type": "code",
   "execution_count": 51,
   "id": "2820ca7c",
   "metadata": {
    "ExecuteTime": {
     "end_time": "2023-01-23T00:54:46.150740Z",
     "start_time": "2023-01-23T00:54:46.128729Z"
    }
   },
   "outputs": [],
   "source": [
    "dtree = DecisionTreeRegressor()\n",
    "dtree.fit(X_train, y_train)\n",
    "dtree_pred = dtree.predict(X_test)\n"
   ]
  },
  {
   "cell_type": "code",
   "execution_count": 52,
   "id": "a3a67a5c",
   "metadata": {
    "ExecuteTime": {
     "end_time": "2023-01-23T00:54:46.160803Z",
     "start_time": "2023-01-23T00:54:46.150740Z"
    }
   },
   "outputs": [
    {
     "name": "stdout",
     "output_type": "stream",
     "text": [
      "MAE of decision tree model is: 1668.44767579389\n",
      "R2 score of decision tree model is: 0.4376763603548405\n"
     ]
    }
   ],
   "source": [
    "dtree_mae = mean_absolute_error(y_test, dtree_pred)\n",
    "dtree_r2 = r2_score(y_test, dtree_pred)\n",
    "print(\"MAE of decision tree model is:\", dtree_mae)\n",
    "print(\"R2 score of decision tree model is:\", dtree_r2)"
   ]
  },
  {
   "cell_type": "code",
   "execution_count": 53,
   "id": "a98623d3",
   "metadata": {
    "ExecuteTime": {
     "end_time": "2023-01-23T00:54:46.209555Z",
     "start_time": "2023-01-23T00:54:46.160803Z"
    }
   },
   "outputs": [
    {
     "name": "stdout",
     "output_type": "stream",
     "text": [
      "Decision Tree model accuracy is: 7.191318349121417\n"
     ]
    }
   ],
   "source": [
    "dtree_score = cross_val_score(dtree, X_test, y_test, cv=4)\n",
    "print(\"Decision Tree model accuracy is: {}\".format(dtree_score.mean()*100))"
   ]
  },
  {
   "cell_type": "code",
   "execution_count": 54,
   "id": "80bfeb23",
   "metadata": {
    "ExecuteTime": {
     "end_time": "2023-01-23T00:54:46.524192Z",
     "start_time": "2023-01-23T00:54:46.209555Z"
    }
   },
   "outputs": [],
   "source": [
    "xgb = XGBRegressor()\n",
    "xgb.fit(X_train, y_train)\n",
    "xgb_pred = xgb.predict(X_test)"
   ]
  },
  {
   "cell_type": "code",
   "execution_count": 55,
   "id": "c4254983",
   "metadata": {
    "ExecuteTime": {
     "end_time": "2023-01-23T00:54:46.539196Z",
     "start_time": "2023-01-23T00:54:46.526193Z"
    }
   },
   "outputs": [
    {
     "name": "stdout",
     "output_type": "stream",
     "text": [
      "MAE of xgboost model is: 2454.8641785995974\n",
      "R2 score of xgboost model is: 0.497815777121868\n"
     ]
    }
   ],
   "source": [
    "xgb_mae = mean_absolute_error(y_test, xgb_pred)\n",
    "xgb_r2 = r2_score(y_test, xgb_pred)\n",
    "print(\"MAE of xgboost model is:\", xgb_mae)\n",
    "print(\"R2 score of xgboost model is:\", xgb_r2)"
   ]
  },
  {
   "cell_type": "code",
   "execution_count": 56,
   "id": "8b77944a",
   "metadata": {
    "ExecuteTime": {
     "end_time": "2023-01-23T00:54:47.081000Z",
     "start_time": "2023-01-23T00:54:46.541196Z"
    }
   },
   "outputs": [
    {
     "name": "stdout",
     "output_type": "stream",
     "text": [
      "Decision Tree model accuracy is: 31.439013953290505\n"
     ]
    }
   ],
   "source": [
    "xgb_score = cross_val_score(xgb, X_test, y_test, cv=4)\n",
    "print(\"Decision Tree model accuracy is: {}\".format(xgb_score.mean()*100))"
   ]
  },
  {
   "cell_type": "code",
   "execution_count": 57,
   "id": "7a454232",
   "metadata": {
    "ExecuteTime": {
     "end_time": "2023-01-23T00:54:47.097004Z",
     "start_time": "2023-01-23T00:54:47.083001Z"
    }
   },
   "outputs": [
    {
     "data": {
      "text/plain": [
       "Index(['Year', 'Miles', 'Price'], dtype='object')"
      ]
     },
     "execution_count": 57,
     "metadata": {},
     "output_type": "execute_result"
    }
   ],
   "source": [
    "data_new.columns"
   ]
  },
  {
   "cell_type": "code",
   "execution_count": 58,
   "id": "dcc562ef",
   "metadata": {
    "ExecuteTime": {
     "end_time": "2023-01-23T00:54:47.144015Z",
     "start_time": "2023-01-23T00:54:47.099004Z"
    }
   },
   "outputs": [
    {
     "data": {
      "text/html": [
       "<div>\n",
       "<style scoped>\n",
       "    .dataframe tbody tr th:only-of-type {\n",
       "        vertical-align: middle;\n",
       "    }\n",
       "\n",
       "    .dataframe tbody tr th {\n",
       "        vertical-align: top;\n",
       "    }\n",
       "\n",
       "    .dataframe thead th {\n",
       "        text-align: right;\n",
       "    }\n",
       "</style>\n",
       "<table border=\"1\" class=\"dataframe\">\n",
       "  <thead>\n",
       "    <tr style=\"text-align: right;\">\n",
       "      <th></th>\n",
       "      <th>Year</th>\n",
       "      <th>Miles</th>\n",
       "      <th>Price</th>\n",
       "    </tr>\n",
       "  </thead>\n",
       "  <tbody>\n",
       "    <tr>\n",
       "      <th>0</th>\n",
       "      <td>2018</td>\n",
       "      <td>41946</td>\n",
       "      <td>16990</td>\n",
       "    </tr>\n",
       "    <tr>\n",
       "      <th>1</th>\n",
       "      <td>2020</td>\n",
       "      <td>45328</td>\n",
       "      <td>23990</td>\n",
       "    </tr>\n",
       "    <tr>\n",
       "      <th>2</th>\n",
       "      <td>2012</td>\n",
       "      <td>81068</td>\n",
       "      <td>21590</td>\n",
       "    </tr>\n",
       "    <tr>\n",
       "      <th>3</th>\n",
       "      <td>2019</td>\n",
       "      <td>35372</td>\n",
       "      <td>21590</td>\n",
       "    </tr>\n",
       "    <tr>\n",
       "      <th>5</th>\n",
       "      <td>2019</td>\n",
       "      <td>47973</td>\n",
       "      <td>18590</td>\n",
       "    </tr>\n",
       "  </tbody>\n",
       "</table>\n",
       "</div>"
      ],
      "text/plain": [
       "   Year  Miles  Price\n",
       "0  2018  41946  16990\n",
       "1  2020  45328  23990\n",
       "2  2012  81068  21590\n",
       "3  2019  35372  21590\n",
       "5  2019  47973  18590"
      ]
     },
     "execution_count": 58,
     "metadata": {},
     "output_type": "execute_result"
    }
   ],
   "source": [
    "data_new.head()"
   ]
  },
  {
   "cell_type": "code",
   "execution_count": 59,
   "id": "61803109",
   "metadata": {
    "ExecuteTime": {
     "end_time": "2023-01-23T00:54:47.160018Z",
     "start_time": "2023-01-23T00:54:47.146015Z"
    }
   },
   "outputs": [
    {
     "data": {
      "text/plain": [
       "array(['Year', 'Miles', 'Price'], dtype=object)"
      ]
     },
     "execution_count": 59,
     "metadata": {},
     "output_type": "execute_result"
    }
   ],
   "source": [
    " data_new.columns.values"
   ]
  },
  {
   "cell_type": "code",
   "execution_count": 60,
   "id": "da4144ee",
   "metadata": {
    "ExecuteTime": {
     "end_time": "2023-01-23T00:54:47.176023Z",
     "start_time": "2023-01-23T00:54:47.162019Z"
    }
   },
   "outputs": [
    {
     "data": {
      "text/html": [
       "<div>\n",
       "<style scoped>\n",
       "    .dataframe tbody tr th:only-of-type {\n",
       "        vertical-align: middle;\n",
       "    }\n",
       "\n",
       "    .dataframe tbody tr th {\n",
       "        vertical-align: top;\n",
       "    }\n",
       "\n",
       "    .dataframe thead th {\n",
       "        text-align: right;\n",
       "    }\n",
       "</style>\n",
       "<table border=\"1\" class=\"dataframe\">\n",
       "  <thead>\n",
       "    <tr style=\"text-align: right;\">\n",
       "      <th></th>\n",
       "      <th>Year</th>\n",
       "      <th>Miles</th>\n",
       "    </tr>\n",
       "  </thead>\n",
       "  <tbody>\n",
       "    <tr>\n",
       "      <th>0</th>\n",
       "      <td>2018</td>\n",
       "      <td>16990</td>\n",
       "    </tr>\n",
       "  </tbody>\n",
       "</table>\n",
       "</div>"
      ],
      "text/plain": [
       "   Year  Miles\n",
       "0  2018  16990"
      ]
     },
     "execution_count": 60,
     "metadata": {},
     "output_type": "execute_result"
    }
   ],
   "source": [
    "data = {'Year':2018, 'Miles':16990,}\n",
    "index= [0]\n",
    "new_df = pd.DataFrame(data, index)\n",
    "new_df"
   ]
  },
  {
   "cell_type": "code",
   "execution_count": 61,
   "id": "2a14528f",
   "metadata": {
    "ExecuteTime": {
     "end_time": "2023-01-23T00:54:47.192025Z",
     "start_time": "2023-01-23T00:54:47.178023Z"
    }
   },
   "outputs": [
    {
     "name": "stdout",
     "output_type": "stream",
     "text": [
      "The car price for the new data is:  [18603.281]\n"
     ]
    }
   ],
   "source": [
    "new_pred = xgb.predict(new_df)\n",
    "print(\"The car price for the new data is: \", new_pred)"
   ]
  }
 ],
 "metadata": {
  "kernelspec": {
   "display_name": "Python 3 (ipykernel)",
   "language": "python",
   "name": "python3"
  },
  "language_info": {
   "codemirror_mode": {
    "name": "ipython",
    "version": 3
   },
   "file_extension": ".py",
   "mimetype": "text/x-python",
   "name": "python",
   "nbconvert_exporter": "python",
   "pygments_lexer": "ipython3",
   "version": "3.9.12"
  },
  "toc": {
   "base_numbering": 1,
   "nav_menu": {},
   "number_sections": true,
   "sideBar": true,
   "skip_h1_title": false,
   "title_cell": "Table of Contents",
   "title_sidebar": "Contents",
   "toc_cell": false,
   "toc_position": {},
   "toc_section_display": true,
   "toc_window_display": false
  }
 },
 "nbformat": 4,
 "nbformat_minor": 5
}
